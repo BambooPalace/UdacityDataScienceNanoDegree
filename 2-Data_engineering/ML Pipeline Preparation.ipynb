{
 "cells": [
  {
   "cell_type": "markdown",
   "metadata": {},
   "source": [
    "# ML Pipeline Preparation\n",
    "Follow the instructions below to help you create your ML pipeline.\n",
    "### 1. Import libraries and load data from database.\n",
    "- Import Python libraries\n",
    "- Load dataset from database with [`read_sql_table`](https://pandas.pydata.org/pandas-docs/stable/generated/pandas.read_sql_table.html)\n",
    "- Define feature and target variables X and Y"
   ]
  },
  {
   "cell_type": "code",
   "execution_count": 1,
   "metadata": {},
   "outputs": [
    {
     "name": "stderr",
     "output_type": "stream",
     "text": [
      "[nltk_data] Downloading package punkt to\n",
      "[nltk_data]     /Users/clairegong/nltk_data...\n",
      "[nltk_data]   Package punkt is already up-to-date!\n",
      "[nltk_data] Downloading package stopwords to\n",
      "[nltk_data]     /Users/clairegong/nltk_data...\n",
      "[nltk_data]   Package stopwords is already up-to-date!\n",
      "[nltk_data] Downloading package wordnet to\n",
      "[nltk_data]     /Users/clairegong/nltk_data...\n",
      "[nltk_data]   Package wordnet is already up-to-date!\n"
     ]
    },
    {
     "data": {
      "text/plain": [
       "True"
      ]
     },
     "execution_count": 1,
     "metadata": {},
     "output_type": "execute_result"
    }
   ],
   "source": [
    "# import libraries\n",
    "\n",
    "import re\n",
    "import nltk\n",
    "from nltk.corpus import stopwords\n",
    "from nltk.stem.wordnet import WordNetLemmatizer\n",
    "from nltk.tokenize import word_tokenize\n",
    "from sqlalchemy import create_engine\n",
    "import pandas as pd\n",
    "from sklearn.pipeline import Pipeline\n",
    "from sklearn.metrics import accuracy_score\n",
    "from sklearn.model_selection import train_test_split,GridSearchCV\n",
    "from sklearn.feature_extraction.text import CountVectorizer, TfidfTransformer\n",
    "from sklearn.naive_bayes import ComplementNB,MultinomialNB,BernoulliNB\n",
    "from sklearn.multioutput import MultiOutputClassifier\n",
    "from sklearn.metrics import classification_report,accuracy_score,f1_score\n",
    "\n",
    "nltk.download('punkt') #tokenizer\n",
    "nltk.download('stopwords') \n",
    "nltk.download('wordnet')# lemmatizer"
   ]
  },
  {
   "cell_type": "code",
   "execution_count": 2,
   "metadata": {},
   "outputs": [],
   "source": [
    "engine = create_engine('sqlite:///DisasterResponse.db')\n",
    "df = pd.read_sql('SELECT * FROM messages', engine)\n",
    "labels=df.columns[3:]#.tolist()"
   ]
  },
  {
   "cell_type": "code",
   "execution_count": 3,
   "metadata": {},
   "outputs": [],
   "source": [
    "# load data from database\n",
    "\n",
    "\n",
    "def load_data():\n",
    "    engine = create_engine('sqlite:///DisasterResponse.db')\n",
    "    df = pd.read_sql('SELECT * FROM messages', engine)\n",
    "    X = df.message.values\n",
    "    Y = df.iloc[:,3:].values\n",
    "#     labels=df.iloc[:,3:].columns\n",
    "    return X,Y#,labels\n",
    "\n",
    "# df.head()"
   ]
  },
  {
   "cell_type": "markdown",
   "metadata": {},
   "source": [
    "### 2. Write a tokenization function to process your text data"
   ]
  },
  {
   "cell_type": "markdown",
   "metadata": {},
   "source": [
    " #### Three useful methods of  text feature extraction. I don't know when to use each yet.\n",
    "\n",
    "CountVectorizer - Bag of Words\n",
    "\n",
    "**TfidfTransformer - TF-IDF values**\n",
    "\n",
    "TfidfVectorizer - Bag of Words AND TF-IDF values"
   ]
  },
  {
   "cell_type": "code",
   "execution_count": 4,
   "metadata": {},
   "outputs": [],
   "source": [
    "def tokenize(text):\n",
    "    # normalize case and remove punctuation\n",
    "    text = re.sub(r\"[^a-zA-Z0-9]\", \" \", text.lower())\n",
    "    \n",
    "    # tokenize text\n",
    "    tokens = word_tokenize(text)\n",
    "    \n",
    "    # lemmatize and remove stop words\n",
    "    lemmatizer = WordNetLemmatizer()\n",
    "    stop_words = stopwords.words(\"english\")\n",
    "    tokens = [lemmatizer.lemmatize(word) for word in tokens if word not in stop_words]\n",
    "\n",
    "    return tokens"
   ]
  },
  {
   "cell_type": "markdown",
   "metadata": {},
   "source": [
    "### 3. Build a machine learning pipeline\n",
    "This machine pipeline should take in the `message` column as input and output classification results on the other 36 categories in the dataset. You may find the [MultiOutputClassifier](http://scikit-learn.org/stable/modules/generated/sklearn.multioutput.MultiOutputClassifier.html) helpful for predicting multiple target variables."
   ]
  },
  {
   "cell_type": "code",
   "execution_count": 5,
   "metadata": {},
   "outputs": [],
   "source": [
    "def make_pipe(clf):\n",
    "    pipeline = Pipeline([\n",
    "        ('vect', CountVectorizer(tokenizer=tokenize)),\n",
    "        ('tfidf', TfidfTransformer()),\n",
    "        ('clf', clf)\n",
    "     ])\n",
    "    return pipeline"
   ]
  },
  {
   "cell_type": "code",
   "execution_count": 6,
   "metadata": {},
   "outputs": [],
   "source": [
    "def build_model(clf):\n",
    "    pipeline = Pipeline([\n",
    "        ('vect', CountVectorizer(tokenizer=tokenize)),\n",
    "        ('tfidf', TfidfTransformer()),\n",
    "        ('clf', clf)\n",
    "     ])\n",
    "        \n",
    "    parameters = {\n",
    "        'vect__ngram_range': ((1, 1), (1, 2)),\n",
    "        'vect__max_df': (0.5, 0.75, 1.0),\n",
    "        'tfidf__use_idf': (True, False)\n",
    "    }\n",
    "\n",
    "    cv = GridSearchCV(pipeline, param_grid=parameters, cv=3)\n",
    "\n",
    "    return cv"
   ]
  },
  {
   "cell_type": "markdown",
   "metadata": {},
   "source": [
    "### 4. Train pipeline\n",
    "- Split data into train and test sets\n",
    "- Train pipeline"
   ]
  },
  {
   "cell_type": "markdown",
   "metadata": {},
   "source": [
    "### 5. Test your model\n",
    "Report the f1 score, precision and recall for each output category of the dataset. You can do this by iterating through the columns and calling sklearn's `classification_report` on each."
   ]
  },
  {
   "cell_type": "code",
   "execution_count": 7,
   "metadata": {},
   "outputs": [],
   "source": [
    "def report(Y_test,Y_preds):\n",
    "    for i in range(36):\n",
    "        print(classification_report(Y_test[:,i], Y_preds[:,i]))\n",
    "#Macro-Average: (class1 + class2+...)/no_class\t #treat classes equally; \n",
    "#Micro-Average: total_true/total\t#treat instances equally, so classes with larger dataset carry more weight"
   ]
  },
  {
   "cell_type": "code",
   "execution_count": 8,
   "metadata": {},
   "outputs": [],
   "source": [
    "def multi_f1(Y_test,Y_preds):\n",
    "    f1_list_weighted=[f1_score(Y_test[:,i], Y_preds[:,i], average='weighted')for i in range(36)]\n",
    "    print('weighted f1_score',sum(f1_list_weighted)/36)"
   ]
  },
  {
   "cell_type": "markdown",
   "metadata": {},
   "source": [
    "### 6. Improve your model/GridSearch\n",
    "Use grid search to find better parameters. "
   ]
  },
  {
   "cell_type": "code",
   "execution_count": 9,
   "metadata": {},
   "outputs": [],
   "source": [
    "multi_clf=MultiOutputClassifier(ComplementNB())\n",
    "\n",
    "def main_cv(clf=multi_clf):\n",
    "    X, Y = load_data()\n",
    "    X_train, X_test, Y_train, Y_test = train_test_split(X, Y, random_state=1)\n",
    "\n",
    "    model=build_model(clf)\n",
    "\n",
    "    # train classifier\n",
    "    model.fit(X_train, Y_train)\n",
    "    print(model.best_params_)\n",
    "\n",
    "    # predict on test data\n",
    "    Y_preds = model.predict(X_test)\n",
    "\n",
    "    # display averaged f1_score\n",
    "    multi_f1(Y_test,Y_preds)\n",
    "\n",
    "\n",
    "# main_cv()"
   ]
  },
  {
   "cell_type": "markdown",
   "metadata": {},
   "source": [
    "### 7. Test your model\n",
    "Show the accuracy, precision, and recall of the tuned model.  \n",
    "\n",
    "Since this project focuses on code quality, process, and  pipelines, there is no minimum performance metric needed to pass. However, make sure to fine tune your models for accuracy, precision and recall to make your project stand out - especially for your portfolio!"
   ]
  },
  {
   "cell_type": "code",
   "execution_count": 10,
   "metadata": {},
   "outputs": [
    {
     "name": "stdout",
     "output_type": "stream",
     "text": [
      "weighted f1_score 0.9244240538281583\n"
     ]
    }
   ],
   "source": [
    "def main(clf=multi_clf):\n",
    "    X, Y = load_data()\n",
    "    X_train, X_test, Y_train, Y_test = train_test_split(X, Y, random_state=1)\n",
    "\n",
    "    pipe=make_pipe(clf)\n",
    "\n",
    "    # train classifier\n",
    "    pipe.fit(X_train, Y_train)\n",
    "\n",
    "    # predict on test data\n",
    "    Y_preds = pipe.predict(X_test)\n",
    "\n",
    "    # display averaged f1_score\n",
    "    multi_f1(Y_test,Y_preds)\n",
    "    return pipe,X_test,Y_test,Y_preds\n",
    "\n",
    "\n",
    "pipe,X_test,Y_test,Y_preds=main()"
   ]
  },
  {
   "cell_type": "code",
   "execution_count": 21,
   "metadata": {},
   "outputs": [
    {
     "name": "stdout",
     "output_type": "stream",
     "text": [
      "model mean f1_score on test set is:  0.9244240538281583\n"
     ]
    }
   ],
   "source": [
    "f1_list=[f1_score(Y_test[:,i], Y_preds[:,i],average='weighted')for i in range(36)]\n",
    "print('model mean f1_score on test set is: ', sum(f1_list)/36)"
   ]
  },
  {
   "cell_type": "code",
   "execution_count": 11,
   "metadata": {},
   "outputs": [],
   "source": [
    "# report(Y_test,Y_preds)"
   ]
  },
  {
   "cell_type": "code",
   "execution_count": 12,
   "metadata": {},
   "outputs": [
    {
     "name": "stdout",
     "output_type": "stream",
     "text": [
      "average accuracy: 0.9339843352659953\n"
     ]
    }
   ],
   "source": [
    "# code for calculating other metrics\n",
    "# # compute scores for each class\n",
    "accuracy_list=[accuracy_score(Y_test[:,i], Y_preds[:,i])for i in range(36)]\n",
    "# f1_list_micro=[f1_score(Y_test[:,i], Y_preds[:,i], average='micro')for i in range(36)]#same value as accuracy\n",
    "# f1_list_macro=[f1_score(Y_test[:,i], Y_preds[:,i], average='macro')for i in range(36)]\n",
    "\n",
    "print('average accuracy:',sum(accuracy_list)/36)\n",
    "# print('micro f1_score',sum(f1_list_micro)/36)\n",
    "\n",
    "# #macro treat class equally, thus not suitable for imbalanced class\n",
    "# print('macro f1_score',sum(f1_list_macro)/36)"
   ]
  },
  {
   "cell_type": "code",
   "execution_count": 13,
   "metadata": {},
   "outputs": [
    {
     "data": {
      "text/html": [
       "<div>\n",
       "<style scoped>\n",
       "    .dataframe tbody tr th:only-of-type {\n",
       "        vertical-align: middle;\n",
       "    }\n",
       "\n",
       "    .dataframe tbody tr th {\n",
       "        vertical-align: top;\n",
       "    }\n",
       "\n",
       "    .dataframe thead th {\n",
       "        text-align: right;\n",
       "    }\n",
       "</style>\n",
       "<table border=\"1\" class=\"dataframe\">\n",
       "  <thead>\n",
       "    <tr style=\"text-align: right;\">\n",
       "      <th></th>\n",
       "      <th>accuracy</th>\n",
       "    </tr>\n",
       "  </thead>\n",
       "  <tbody>\n",
       "    <tr>\n",
       "      <td>related</td>\n",
       "      <td>0.823924</td>\n",
       "    </tr>\n",
       "    <tr>\n",
       "      <td>request</td>\n",
       "      <td>0.870156</td>\n",
       "    </tr>\n",
       "    <tr>\n",
       "      <td>offer</td>\n",
       "      <td>0.989930</td>\n",
       "    </tr>\n",
       "    <tr>\n",
       "      <td>aid_related</td>\n",
       "      <td>0.750534</td>\n",
       "    </tr>\n",
       "    <tr>\n",
       "      <td>medical_help</td>\n",
       "      <td>0.909216</td>\n",
       "    </tr>\n",
       "  </tbody>\n",
       "</table>\n",
       "</div>"
      ],
      "text/plain": [
       "              accuracy\n",
       "related       0.823924\n",
       "request       0.870156\n",
       "offer         0.989930\n",
       "aid_related   0.750534\n",
       "medical_help  0.909216"
      ]
     },
     "execution_count": 13,
     "metadata": {},
     "output_type": "execute_result"
    }
   ],
   "source": [
    "score_df=pd.DataFrame({'accuracy':accuracy_list},index=labels)\n",
    "score_df.head()"
   ]
  },
  {
   "cell_type": "markdown",
   "metadata": {},
   "source": [
    "### 8. Try improving your model further. Here are a few ideas:\n",
    "* try other machine learning algorithms\n",
    "* add other features besides the TF-IDF"
   ]
  },
  {
   "cell_type": "code",
   "execution_count": 36,
   "metadata": {},
   "outputs": [
    {
     "name": "stdout",
     "output_type": "stream",
     "text": [
      "weighted f1_score 0.9276770612976315\n"
     ]
    }
   ],
   "source": [
    "from sklearn.naive_bayes import ComplementNB,MultinomialNB,BernoulliNB,GaussianNB\n",
    "#1st model cannot import in Udacity workspace, 2nd trigger warning, third is as good as first\n",
    "#GaussianNB cannot take sparse matrix\n",
    "NB_clf_2=MultiOutputClassifier(BernoulliNB(alpha=0.6))\n",
    "_,_,_,_=main(NB_clf_2)\n",
    "#alpha=1.0 0.9255590554451469; 0.7, 0.9274249838428733;0.6,0.9276770612976315;\n",
    "#0.5, 0.9275877839959503; 0.3, 0.9268416314997615"
   ]
  },
  {
   "cell_type": "markdown",
   "metadata": {},
   "source": [
    "### 9. Export your model as a pickle file"
   ]
  },
  {
   "cell_type": "code",
   "execution_count": 15,
   "metadata": {},
   "outputs": [],
   "source": [
    "from joblib import dump, load\n",
    "#save\n",
    "dump(pipe, 'pipe.pkl')\n",
    "#load\n",
    "pipe_load = load('pipe.pkl')\n"
   ]
  },
  {
   "cell_type": "code",
   "execution_count": 16,
   "metadata": {
    "scrolled": true
   },
   "outputs": [
    {
     "data": {
      "text/plain": [
       "1.0"
      ]
     },
     "execution_count": 16,
     "metadata": {},
     "output_type": "execute_result"
    }
   ],
   "source": [
    "# check that pipeline saved sucessfully\n",
    "\n",
    "Y_preds_load=pipe_load.predict(X_test)\n",
    "import numpy\n",
    "numpy.mean(Y_preds_load==Y_preds)"
   ]
  },
  {
   "cell_type": "markdown",
   "metadata": {},
   "source": [
    "### 10. Use this notebook to complete `train.py`\n",
    "Use the template file attached in the Resources folder to write a script that runs the steps above to create a database and export a model based on a new dataset specified by the user."
   ]
  },
  {
   "cell_type": "code",
   "execution_count": null,
   "metadata": {},
   "outputs": [],
   "source": []
  }
 ],
 "metadata": {
  "kernelspec": {
   "display_name": "Python 3",
   "language": "python",
   "name": "python3"
  },
  "language_info": {
   "codemirror_mode": {
    "name": "ipython",
    "version": 3
   },
   "file_extension": ".py",
   "mimetype": "text/x-python",
   "name": "python",
   "nbconvert_exporter": "python",
   "pygments_lexer": "ipython3",
   "version": "3.7.4"
  }
 },
 "nbformat": 4,
 "nbformat_minor": 2
}
