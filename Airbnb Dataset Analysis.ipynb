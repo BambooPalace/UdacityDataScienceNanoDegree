{
 "cells": [
  {
   "cell_type": "markdown",
   "metadata": {},
   "source": [
    "## Airbnb Dataset: \n",
    "https://www.kaggle.com/airbnb/seattle/data\n",
    "### Context\n",
    "Since 2008, guests and hosts have used Airbnb to travel in a more unique, personalized way. As part of the Airbnb Inside initiative, this dataset describes the listing activity of homestays in Beijing, China.\n",
    "\n",
    "### Content\n",
    "The following Airbnb activity is included in this Beijing dataset:\n",
    "\n",
    "Listings, including full descriptions and average review score\n",
    "Reviews, including unique id for each reviewer and detailed comments\n",
    "Calendar, including listing id and the price and availability for that day\n",
    "\n",
    "### Inspiration\n",
    "Can you describe the vibe of each Seattle neighborhood using listing descriptions?\n",
    "What are the busiest times of the year to visit Seattle? By how much do prices spike?\n",
    "Is there a general upward trend of both new Airbnb listings and total Airbnb visitors to Seattle?\n",
    "For more ideas, visualizations of all Seattle datasets can be found here.\n",
    "\n",
    "### Acknowledgement\n",
    "This dataset is part of Airbnb Inside, and the original source can be found here.\n",
    "(http://insideairbnb.com/get-the-data.html)\n"
   ]
  },
  {
   "cell_type": "markdown",
   "metadata": {},
   "source": [
    "## Analysis Procedures (CRISP-DM)\n",
    "\n",
    "\n",
    "### 1. Business understanding\n",
    "\n",
    "    - Can you build a recommendation model, by grouping similar listings into one cluster?\n",
    "    - What are the busiest times of the year to visit Seattle?\n",
    "    - How the price changes over one year?\n",
    "    - Can you predict/suggest a price given a listing information? which features impact the price most?\n",
    "    - Can you predict the review score? What features makes the customers feel more satisfied?\n",
    "    - * Can you predict the occupancy rate?\n",
    "\n",
    "    \n",
    "### 2. Data understanding\n",
    "    - Data exploration\n",
    "    \n",
    "### 3. Data preparation\n",
    "    - Handling missing values, categorical values, and feature engineering.\n",
    "\n",
    "### 4. Modelling\n",
    "    - Use clustering algorithms for grouping/recommendation purpose.\n",
    "    - Use regression to suggest owner the reseaonable price range.\n",
    "\n",
    "### 5. Results\n",
    "    - Answer questions in step 1 'Business understanding' with data visualization."
   ]
  },
  {
   "cell_type": "markdown",
   "metadata": {},
   "source": [
    "## 2. Data understanding\n",
    "\n",
    "In this part, the three datasets in csv format is imported into dataframes using `pandas`, and explored using available pandas functions in below cells. The information obtained about the datasets is summarized as below in this cell.\n",
    "\n",
    "**Calender dataset** contains the price information for each listing in a calender year. There are 3818 unique `listing_id` in the dataset, and for each `listing_id` there are 365 rows of price corresponding one day between _2016-01-04 and 2017-01-02_ .<br>\n",
    "The `available` column has two unique values _'t' or 'f'_ meaning _True or False_. When a listing is not available for the day, the columns `price` is _nan_.\n",
    "\n",
    "**Listing dataset** contains the full description for each listing scraped on _2016-01-04_ , with 3818 rows describing 3818 unique listings. <br>\n",
    "There are 92 columns/features in this dataset, thus a lot of information that need to be selectively used in later session. <br>\n",
    "Telling from the column names, the features can be roughly divided into below categories: listing info, host info, location, room/house info, price and booking, reviews, and policies.\n",
    "\n",
    "**Reviews dataset** contains all the review entries for above mention 3818 listings by _2016-01-03_ since 2009. Each row records the review's info and the detailed text comments for a listing in a certain day, without a numerical score feature. <br>\n",
    "The positivity of each comments could be predicted through a NLP modelling, but it's not in the objectives of this analysis and the _listing_ dataset already have features of reviews in numerical scores. Thus, the _reviews_ dataset will not be used for furthur analysis."
   ]
  },
  {
   "cell_type": "code",
   "execution_count": 102,
   "metadata": {},
   "outputs": [],
   "source": [
    "import pandas as pd\n",
    "import numpy as np\n",
    "from matplotlib import pyplot as plt\n",
    "import seaborn as sns\n",
    "\n",
    "calender_path = '/Users/clairegong/Desktop/UdacityDataScienceNanoDegree/seattle airbnb dataset/calendar.csv'\n",
    "listing_path = '/Users/clairegong/Desktop/UdacityDataScienceNanoDegree/seattle airbnb dataset/listings.csv'\n",
    "reviews_path = '/Users/clairegong/Desktop/UdacityDataScienceNanoDegree/seattle airbnb dataset/reviews.csv'\n",
    "\n",
    "calender=pd.read_csv(calender_path)\n",
    "listing=pd.read_csv(listing_path)\n",
    "reviews=pd.read_csv(reviews_path)\n"
   ]
  },
  {
   "cell_type": "code",
   "execution_count": 103,
   "metadata": {},
   "outputs": [
    {
     "data": {
      "text/html": [
       "<div>\n",
       "<style scoped>\n",
       "    .dataframe tbody tr th:only-of-type {\n",
       "        vertical-align: middle;\n",
       "    }\n",
       "\n",
       "    .dataframe tbody tr th {\n",
       "        vertical-align: top;\n",
       "    }\n",
       "\n",
       "    .dataframe thead th {\n",
       "        text-align: right;\n",
       "    }\n",
       "</style>\n",
       "<table border=\"1\" class=\"dataframe\">\n",
       "  <thead>\n",
       "    <tr style=\"text-align: right;\">\n",
       "      <th></th>\n",
       "      <th>listing_id</th>\n",
       "      <th>date</th>\n",
       "      <th>available</th>\n",
       "      <th>price</th>\n",
       "    </tr>\n",
       "  </thead>\n",
       "  <tbody>\n",
       "    <tr>\n",
       "      <td>0</td>\n",
       "      <td>241032</td>\n",
       "      <td>2016-01-04</td>\n",
       "      <td>t</td>\n",
       "      <td>$85.00</td>\n",
       "    </tr>\n",
       "    <tr>\n",
       "      <td>1</td>\n",
       "      <td>241032</td>\n",
       "      <td>2016-01-05</td>\n",
       "      <td>t</td>\n",
       "      <td>$85.00</td>\n",
       "    </tr>\n",
       "    <tr>\n",
       "      <td>2</td>\n",
       "      <td>241032</td>\n",
       "      <td>2016-01-06</td>\n",
       "      <td>f</td>\n",
       "      <td>NaN</td>\n",
       "    </tr>\n",
       "    <tr>\n",
       "      <td>3</td>\n",
       "      <td>241032</td>\n",
       "      <td>2016-01-07</td>\n",
       "      <td>f</td>\n",
       "      <td>NaN</td>\n",
       "    </tr>\n",
       "    <tr>\n",
       "      <td>4</td>\n",
       "      <td>241032</td>\n",
       "      <td>2016-01-08</td>\n",
       "      <td>f</td>\n",
       "      <td>NaN</td>\n",
       "    </tr>\n",
       "  </tbody>\n",
       "</table>\n",
       "</div>"
      ],
      "text/plain": [
       "   listing_id        date available   price\n",
       "0      241032  2016-01-04         t  $85.00\n",
       "1      241032  2016-01-05         t  $85.00\n",
       "2      241032  2016-01-06         f     NaN\n",
       "3      241032  2016-01-07         f     NaN\n",
       "4      241032  2016-01-08         f     NaN"
      ]
     },
     "execution_count": 103,
     "metadata": {},
     "output_type": "execute_result"
    }
   ],
   "source": [
    "calender.head(5)"
   ]
  },
  {
   "cell_type": "code",
   "execution_count": 104,
   "metadata": {},
   "outputs": [
    {
     "data": {
      "text/plain": [
       "3818"
      ]
     },
     "execution_count": 104,
     "metadata": {},
     "output_type": "execute_result"
    }
   ],
   "source": [
    "calender.listing_id.nunique()"
   ]
  },
  {
   "cell_type": "code",
   "execution_count": 105,
   "metadata": {},
   "outputs": [
    {
     "data": {
      "text/plain": [
       "6752031     365\n",
       "7404370     365\n",
       "1259305     365\n",
       "4672934     365\n",
       "10310373    365\n",
       "Name: listing_id, dtype: int64"
      ]
     },
     "execution_count": 105,
     "metadata": {},
     "output_type": "execute_result"
    }
   ],
   "source": [
    "calender.listing_id.value_counts().head()"
   ]
  },
  {
   "cell_type": "code",
   "execution_count": 106,
   "metadata": {},
   "outputs": [
    {
     "name": "stdout",
     "output_type": "stream",
     "text": [
      "Date range of calender data is between 2016-01-04 and 2017-01-02.\n"
     ]
    }
   ],
   "source": [
    "print('Date range of calender data is between {} and {}.'.format(calender.date.min(),calender.date.max()))"
   ]
  },
  {
   "cell_type": "code",
   "execution_count": 107,
   "metadata": {
    "scrolled": true
   },
   "outputs": [
    {
     "name": "stdout",
     "output_type": "stream",
     "text": [
      "<class 'pandas.core.frame.DataFrame'>\n",
      "RangeIndex: 1393570 entries, 0 to 1393569\n",
      "Data columns (total 4 columns):\n",
      "listing_id    1393570 non-null int64\n",
      "date          1393570 non-null object\n",
      "available     1393570 non-null object\n",
      "price         934542 non-null object\n",
      "dtypes: int64(1), object(3)\n",
      "memory usage: 42.5+ MB\n"
     ]
    }
   ],
   "source": [
    "calender.info()"
   ]
  },
  {
   "cell_type": "code",
   "execution_count": 108,
   "metadata": {},
   "outputs": [],
   "source": [
    "# listing.describe()"
   ]
  },
  {
   "cell_type": "code",
   "execution_count": 109,
   "metadata": {},
   "outputs": [],
   "source": [
    "# listing.info() #3818 entries,92 columns"
   ]
  },
  {
   "cell_type": "code",
   "execution_count": 110,
   "metadata": {},
   "outputs": [
    {
     "data": {
      "text/plain": [
       "(3818, 92)"
      ]
     },
     "execution_count": 110,
     "metadata": {},
     "output_type": "execute_result"
    }
   ],
   "source": [
    "listing.shape"
   ]
  },
  {
   "cell_type": "code",
   "execution_count": 111,
   "metadata": {},
   "outputs": [
    {
     "data": {
      "text/plain": [
       "Index(['id', 'listing_url', 'scrape_id', 'last_scraped', 'name', 'summary',\n",
       "       'space', 'description', 'experiences_offered', 'neighborhood_overview',\n",
       "       'notes', 'transit', 'thumbnail_url', 'medium_url', 'picture_url',\n",
       "       'xl_picture_url', 'host_id', 'host_url', 'host_name', 'host_since',\n",
       "       'host_location', 'host_about', 'host_response_time',\n",
       "       'host_response_rate', 'host_acceptance_rate', 'host_is_superhost',\n",
       "       'host_thumbnail_url', 'host_picture_url', 'host_neighbourhood',\n",
       "       'host_listings_count', 'host_total_listings_count',\n",
       "       'host_verifications', 'host_has_profile_pic', 'host_identity_verified',\n",
       "       'street', 'neighbourhood', 'neighbourhood_cleansed',\n",
       "       'neighbourhood_group_cleansed', 'city', 'state', 'zipcode', 'market',\n",
       "       'smart_location', 'country_code', 'country', 'latitude', 'longitude',\n",
       "       'is_location_exact', 'property_type', 'room_type', 'accommodates',\n",
       "       'bathrooms', 'bedrooms', 'beds', 'bed_type', 'amenities', 'square_feet',\n",
       "       'price', 'weekly_price', 'monthly_price', 'security_deposit',\n",
       "       'cleaning_fee', 'guests_included', 'extra_people', 'minimum_nights',\n",
       "       'maximum_nights', 'calendar_updated', 'has_availability',\n",
       "       'availability_30', 'availability_60', 'availability_90',\n",
       "       'availability_365', 'calendar_last_scraped', 'number_of_reviews',\n",
       "       'first_review', 'last_review', 'review_scores_rating',\n",
       "       'review_scores_accuracy', 'review_scores_cleanliness',\n",
       "       'review_scores_checkin', 'review_scores_communication',\n",
       "       'review_scores_location', 'review_scores_value', 'requires_license',\n",
       "       'license', 'jurisdiction_names', 'instant_bookable',\n",
       "       'cancellation_policy', 'require_guest_profile_picture',\n",
       "       'require_guest_phone_verification', 'calculated_host_listings_count',\n",
       "       'reviews_per_month'],\n",
       "      dtype='object')"
      ]
     },
     "execution_count": 111,
     "metadata": {},
     "output_type": "execute_result"
    }
   ],
   "source": [
    "listing.columns # 92 columns"
   ]
  },
  {
   "cell_type": "code",
   "execution_count": 112,
   "metadata": {},
   "outputs": [
    {
     "data": {
      "text/html": [
       "<div>\n",
       "<style scoped>\n",
       "    .dataframe tbody tr th:only-of-type {\n",
       "        vertical-align: middle;\n",
       "    }\n",
       "\n",
       "    .dataframe tbody tr th {\n",
       "        vertical-align: top;\n",
       "    }\n",
       "\n",
       "    .dataframe thead th {\n",
       "        text-align: right;\n",
       "    }\n",
       "</style>\n",
       "<table border=\"1\" class=\"dataframe\">\n",
       "  <thead>\n",
       "    <tr style=\"text-align: right;\">\n",
       "      <th></th>\n",
       "      <th>id</th>\n",
       "      <th>listing_url</th>\n",
       "      <th>scrape_id</th>\n",
       "      <th>last_scraped</th>\n",
       "      <th>name</th>\n",
       "      <th>summary</th>\n",
       "      <th>space</th>\n",
       "      <th>description</th>\n",
       "      <th>experiences_offered</th>\n",
       "      <th>neighborhood_overview</th>\n",
       "      <th>...</th>\n",
       "      <th>review_scores_value</th>\n",
       "      <th>requires_license</th>\n",
       "      <th>license</th>\n",
       "      <th>jurisdiction_names</th>\n",
       "      <th>instant_bookable</th>\n",
       "      <th>cancellation_policy</th>\n",
       "      <th>require_guest_profile_picture</th>\n",
       "      <th>require_guest_phone_verification</th>\n",
       "      <th>calculated_host_listings_count</th>\n",
       "      <th>reviews_per_month</th>\n",
       "    </tr>\n",
       "  </thead>\n",
       "  <tbody>\n",
       "    <tr>\n",
       "      <td>2456</td>\n",
       "      <td>53867</td>\n",
       "      <td>https://www.airbnb.com/rooms/53867</td>\n",
       "      <td>20160104002432</td>\n",
       "      <td>2016-01-04</td>\n",
       "      <td>U District Backyard Cottage &amp; Loft</td>\n",
       "      <td>Bright, spacious and clean modern backyard cot...</td>\n",
       "      <td>Bright, spacious and clean modern backyard cot...</td>\n",
       "      <td>Bright, spacious and clean modern backyard cot...</td>\n",
       "      <td>none</td>\n",
       "      <td>Our neighborhood is fun, vibrant and chic, wit...</td>\n",
       "      <td>...</td>\n",
       "      <td>10.0</td>\n",
       "      <td>f</td>\n",
       "      <td>NaN</td>\n",
       "      <td>WASHINGTON</td>\n",
       "      <td>t</td>\n",
       "      <td>moderate</td>\n",
       "      <td>f</td>\n",
       "      <td>f</td>\n",
       "      <td>1</td>\n",
       "      <td>4.52</td>\n",
       "    </tr>\n",
       "  </tbody>\n",
       "</table>\n",
       "<p>1 rows × 92 columns</p>\n",
       "</div>"
      ],
      "text/plain": [
       "         id                         listing_url       scrape_id last_scraped  \\\n",
       "2456  53867  https://www.airbnb.com/rooms/53867  20160104002432   2016-01-04   \n",
       "\n",
       "                                    name  \\\n",
       "2456  U District Backyard Cottage & Loft   \n",
       "\n",
       "                                                summary  \\\n",
       "2456  Bright, spacious and clean modern backyard cot...   \n",
       "\n",
       "                                                  space  \\\n",
       "2456  Bright, spacious and clean modern backyard cot...   \n",
       "\n",
       "                                            description experiences_offered  \\\n",
       "2456  Bright, spacious and clean modern backyard cot...                none   \n",
       "\n",
       "                                  neighborhood_overview  ...  \\\n",
       "2456  Our neighborhood is fun, vibrant and chic, wit...  ...   \n",
       "\n",
       "     review_scores_value requires_license license jurisdiction_names  \\\n",
       "2456                10.0                f     NaN         WASHINGTON   \n",
       "\n",
       "     instant_bookable cancellation_policy  require_guest_profile_picture  \\\n",
       "2456                t            moderate                              f   \n",
       "\n",
       "     require_guest_phone_verification calculated_host_listings_count  \\\n",
       "2456                                f                              1   \n",
       "\n",
       "     reviews_per_month  \n",
       "2456              4.52  \n",
       "\n",
       "[1 rows x 92 columns]"
      ]
     },
     "execution_count": 112,
     "metadata": {},
     "output_type": "execute_result"
    }
   ],
   "source": [
    "listing.sample()"
   ]
  },
  {
   "cell_type": "code",
   "execution_count": 113,
   "metadata": {},
   "outputs": [],
   "source": [
    "# listing.iloc[:,:10].sample()"
   ]
  },
  {
   "cell_type": "code",
   "execution_count": 114,
   "metadata": {},
   "outputs": [
    {
     "data": {
      "text/html": [
       "<div>\n",
       "<style scoped>\n",
       "    .dataframe tbody tr th:only-of-type {\n",
       "        vertical-align: middle;\n",
       "    }\n",
       "\n",
       "    .dataframe tbody tr th {\n",
       "        vertical-align: top;\n",
       "    }\n",
       "\n",
       "    .dataframe thead th {\n",
       "        text-align: right;\n",
       "    }\n",
       "</style>\n",
       "<table border=\"1\" class=\"dataframe\">\n",
       "  <thead>\n",
       "    <tr style=\"text-align: right;\">\n",
       "      <th></th>\n",
       "      <th>listing_id</th>\n",
       "      <th>id</th>\n",
       "      <th>date</th>\n",
       "      <th>reviewer_id</th>\n",
       "      <th>reviewer_name</th>\n",
       "      <th>comments</th>\n",
       "    </tr>\n",
       "  </thead>\n",
       "  <tbody>\n",
       "    <tr>\n",
       "      <td>1160</td>\n",
       "      <td>2277640</td>\n",
       "      <td>20737649</td>\n",
       "      <td>2014-10-05</td>\n",
       "      <td>937329</td>\n",
       "      <td>Jennifer</td>\n",
       "      <td>We had a great stay at this spot! Exactly as p...</td>\n",
       "    </tr>\n",
       "    <tr>\n",
       "      <td>84251</td>\n",
       "      <td>315120</td>\n",
       "      <td>18667715</td>\n",
       "      <td>2014-08-30</td>\n",
       "      <td>4161253</td>\n",
       "      <td>Jennifer</td>\n",
       "      <td>I absolutely loved staying at Rick's. The spac...</td>\n",
       "    </tr>\n",
       "    <tr>\n",
       "      <td>33852</td>\n",
       "      <td>7748866</td>\n",
       "      <td>45597780</td>\n",
       "      <td>2015-09-04</td>\n",
       "      <td>32442148</td>\n",
       "      <td>John</td>\n",
       "      <td>We loved staying here. They were the most frie...</td>\n",
       "    </tr>\n",
       "    <tr>\n",
       "      <td>49445</td>\n",
       "      <td>609701</td>\n",
       "      <td>3847593</td>\n",
       "      <td>2013-03-20</td>\n",
       "      <td>511633</td>\n",
       "      <td>Kristina</td>\n",
       "      <td>What beautiful space with all the essentials! ...</td>\n",
       "    </tr>\n",
       "    <tr>\n",
       "      <td>12296</td>\n",
       "      <td>5310503</td>\n",
       "      <td>45178275</td>\n",
       "      <td>2015-08-31</td>\n",
       "      <td>41864044</td>\n",
       "      <td>Kelly</td>\n",
       "      <td>Diana is a friendly, welcoming host. We had a ...</td>\n",
       "    </tr>\n",
       "  </tbody>\n",
       "</table>\n",
       "</div>"
      ],
      "text/plain": [
       "       listing_id        id        date  reviewer_id reviewer_name  \\\n",
       "1160      2277640  20737649  2014-10-05       937329      Jennifer   \n",
       "84251      315120  18667715  2014-08-30      4161253      Jennifer   \n",
       "33852     7748866  45597780  2015-09-04     32442148          John   \n",
       "49445      609701   3847593  2013-03-20       511633      Kristina   \n",
       "12296     5310503  45178275  2015-08-31     41864044         Kelly   \n",
       "\n",
       "                                                comments  \n",
       "1160   We had a great stay at this spot! Exactly as p...  \n",
       "84251  I absolutely loved staying at Rick's. The spac...  \n",
       "33852  We loved staying here. They were the most frie...  \n",
       "49445  What beautiful space with all the essentials! ...  \n",
       "12296  Diana is a friendly, welcoming host. We had a ...  "
      ]
     },
     "execution_count": 114,
     "metadata": {},
     "output_type": "execute_result"
    }
   ],
   "source": [
    "reviews.sample(5)"
   ]
  },
  {
   "cell_type": "code",
   "execution_count": 115,
   "metadata": {},
   "outputs": [
    {
     "name": "stdout",
     "output_type": "stream",
     "text": [
      "<class 'pandas.core.frame.DataFrame'>\n",
      "RangeIndex: 84849 entries, 0 to 84848\n",
      "Data columns (total 6 columns):\n",
      "listing_id       84849 non-null int64\n",
      "id               84849 non-null int64\n",
      "date             84849 non-null object\n",
      "reviewer_id      84849 non-null int64\n",
      "reviewer_name    84849 non-null object\n",
      "comments         84831 non-null object\n",
      "dtypes: int64(3), object(3)\n",
      "memory usage: 3.9+ MB\n"
     ]
    }
   ],
   "source": [
    "reviews.info()"
   ]
  },
  {
   "cell_type": "code",
   "execution_count": 116,
   "metadata": {},
   "outputs": [
    {
     "name": "stdout",
     "output_type": "stream",
     "text": [
      "Date range of review data is between 2009-06-07 and 2016-01-03.\n"
     ]
    }
   ],
   "source": [
    "print('Date range of review data is between {} and {}.'.format(reviews.date.min(),reviews.date.max()))"
   ]
  },
  {
   "cell_type": "markdown",
   "metadata": {},
   "source": [
    "## 3. Data preparation\n",
    "\n",
    "The _listing_ and _calender_ datasets will be processed in this section to be ready for comsumption for prediction models. From the information gathered in last part, below processing is in order: data cleaning, feature engineering, missing values imputing, categorical values imputing etc.\n",
    "\n"
   ]
  },
  {
   "cell_type": "markdown",
   "metadata": {},
   "source": [
    "**Calender dataset**"
   ]
  },
  {
   "cell_type": "code",
   "execution_count": 117,
   "metadata": {},
   "outputs": [
    {
     "name": "stdout",
     "output_type": "stream",
     "text": [
      "<class 'pandas.core.frame.DataFrame'>\n",
      "RangeIndex: 1393570 entries, 0 to 1393569\n",
      "Data columns (total 4 columns):\n",
      "listing_id    1393570 non-null int64\n",
      "date          1393570 non-null object\n",
      "available     1393570 non-null bool\n",
      "price         934542 non-null float64\n",
      "dtypes: bool(1), float64(1), int64(1), object(1)\n",
      "memory usage: 33.2+ MB\n"
     ]
    }
   ],
   "source": [
    "#Data cleaning\n",
    "# remove dollar signs $ and , in the price feature\n",
    "calender.price = calender.price.replace('[\\$,\\,]','', regex=True)\n",
    "calender.price = pd.to_numeric(calender.price)\n",
    "\n",
    "# modify available feature to boolean values to be meaningful, and convenient for furthur calculation.\n",
    "calender.available.replace({'t':True, 'f': False}, inplace=True)\n",
    "calender.info()"
   ]
  },
  {
   "cell_type": "code",
   "execution_count": 118,
   "metadata": {},
   "outputs": [
    {
     "data": {
      "text/html": [
       "<div>\n",
       "<style scoped>\n",
       "    .dataframe tbody tr th:only-of-type {\n",
       "        vertical-align: middle;\n",
       "    }\n",
       "\n",
       "    .dataframe tbody tr th {\n",
       "        vertical-align: top;\n",
       "    }\n",
       "\n",
       "    .dataframe thead th {\n",
       "        text-align: right;\n",
       "    }\n",
       "</style>\n",
       "<table border=\"1\" class=\"dataframe\">\n",
       "  <thead>\n",
       "    <tr style=\"text-align: right;\">\n",
       "      <th></th>\n",
       "      <th>listing_id</th>\n",
       "      <th>date</th>\n",
       "      <th>available</th>\n",
       "      <th>price</th>\n",
       "      <th>neighbourhood</th>\n",
       "    </tr>\n",
       "  </thead>\n",
       "  <tbody>\n",
       "    <tr>\n",
       "      <td>989459</td>\n",
       "      <td>835149</td>\n",
       "      <td>2016-11-08</td>\n",
       "      <td>True</td>\n",
       "      <td>58.0</td>\n",
       "      <td>Capitol Hill</td>\n",
       "    </tr>\n",
       "    <tr>\n",
       "      <td>197719</td>\n",
       "      <td>7517215</td>\n",
       "      <td>2016-09-14</td>\n",
       "      <td>True</td>\n",
       "      <td>99.0</td>\n",
       "      <td>Other neighborhoods</td>\n",
       "    </tr>\n",
       "    <tr>\n",
       "      <td>239549</td>\n",
       "      <td>413733</td>\n",
       "      <td>2016-04-22</td>\n",
       "      <td>True</td>\n",
       "      <td>150.0</td>\n",
       "      <td>Central Area</td>\n",
       "    </tr>\n",
       "    <tr>\n",
       "      <td>1202935</td>\n",
       "      <td>6018416</td>\n",
       "      <td>2016-09-20</td>\n",
       "      <td>True</td>\n",
       "      <td>350.0</td>\n",
       "      <td>Ballard</td>\n",
       "    </tr>\n",
       "    <tr>\n",
       "      <td>168582</td>\n",
       "      <td>108468</td>\n",
       "      <td>2016-11-16</td>\n",
       "      <td>True</td>\n",
       "      <td>395.0</td>\n",
       "      <td>Queen Anne</td>\n",
       "    </tr>\n",
       "  </tbody>\n",
       "</table>\n",
       "</div>"
      ],
      "text/plain": [
       "         listing_id        date  available  price        neighbourhood\n",
       "989459       835149  2016-11-08       True   58.0         Capitol Hill\n",
       "197719      7517215  2016-09-14       True   99.0  Other neighborhoods\n",
       "239549       413733  2016-04-22       True  150.0         Central Area\n",
       "1202935     6018416  2016-09-20       True  350.0              Ballard\n",
       "168582       108468  2016-11-16       True  395.0           Queen Anne"
      ]
     },
     "execution_count": 118,
     "metadata": {},
     "output_type": "execute_result"
    }
   ],
   "source": [
    "#Feature engineering\n",
    "# One of our purposes is to see the price trends, considering neighborhoods, so I need to extract the useful \n",
    "# neighbourhood features from the listing dataset. After some checking, neighbourhood_group_cleansed feature \n",
    "# is the best one, merge this feature to the calender dataset.\n",
    "neighourhood_group=listing[['id','neighbourhood_group_cleansed']].\\\n",
    "    rename(columns={'id':'listing_id','neighbourhood_group_cleansed':'neighbourhood'})\n",
    "calender = calender.merge(neighourhood_group, how='left')\n",
    "\n",
    "calender.sample(5)"
   ]
  },
  {
   "cell_type": "code",
   "execution_count": 119,
   "metadata": {},
   "outputs": [],
   "source": [
    "# caculate the yearly occupancy_rate and mean_price for each listing using calender dataset\n",
    "occupancy_rate=calender.groupby('listing_id').available.mean()\n",
    "mean_price=calender.groupby('listing_id').price.mean()"
   ]
  },
  {
   "cell_type": "markdown",
   "metadata": {},
   "source": [
    "### Listing dataset\n",
    "\n",
    "This dataset has too many(i.e. 92) features, it is known that models trained with too many features are prone to overfit and predict badly on unseen data, thus I need to select those possibly useful in answering our business questions, i.e. predicting prices and scores. Features with descriptive text values is not useful in this context\n",
    "so I will exclude them all, with the exception for a few with categorical values. Also features that are likely to impact on price and review score but not much, are also discarded.\n",
    "\n",
    "To select features, the data scientist/analyst need to examine EVERY feature, but a more efficient way I usually do is to examine features by BATCH of 10, or a number of your choice. \n",
    "\n",
    "**Examing** includes but is not limited to: checking <br>\n",
    "- the unique values of categorical values by `nunique` `value_counts`\n",
    "- the number of missing values by `isnull`\n",
    "- data distribution of numerical values by `describe`\n",
    "- comparing features with similar names by `filter`\n",
    "- and so on\n",
    "\n",
    "\n",
    "**Below are some features that I discarded as they will provide little information on predicting prices and review scores. Accompanying the feature names are some thoughts written for readers' reference.** <br>\n",
    "- _experiences_offered_ : 3055/3055 is 'none'\n",
    "- _host_acceptance_rate_ : 3044/3045 is 100%\n",
    "- _host_total_listings_count_ : has same info as host_listings_count\n",
    "- _host_verifications_ : could be useful, by splitting list into elements then into categorical values such as 'has_email', but is not worth the effort in this case.\n",
    "- _host_has_profile_pic_ : 3809/3817 True\n",
    "- _square_feet_ : is 97.4% missing using #listing.square_feet.isnull().mean()\n",
    "- _weekly_price_ : is 47.3% missing, it could be organized to a no_weekly_price feature, but will be discarded in this context.\n",
    "- _monthly_price_ : is 60.3% missing, reason to discard is as above.\n",
    "- _calendar_updated_ : values could be unified into number of days ago, but it will be discarded in this context.\n",
    "- _has_availability_ : 100% True\n",
    "- _availability_30_ : and it stands for how many days the room is available in the next 30 days. availability_num features follows the same logic. Listing dataset will be used to predict price and score, so these features I think are less significant. To calculate occupancy rate, calender dataset can be used instead.\n",
    "- _review_scores_xx_ : features I only keep one feature: review_scores_rating as it is representive of overall experience.\n",
    "- _requires_license_ : 100% False\n",
    "- _require_guest_profile_picture_ : 3497/3828 False, this could be useful but considered not significant, thus is discarded.\n",
    "- _require_guest_phone_verification_ : reason to discard is similar to above.\n",
    "- _host_since_ feature can be used to tell the experience of the host, discarded here as I am not familiar with datetime parsing.\n",
    "\n",
    "**Codes below are the typical ones I used to examine the feature.**<br>\n",
    "**Tips added after working a while and coming back: this process is time consume, should use `df.cor` on numerical features for faster elimination.**"
   ]
  },
  {
   "cell_type": "code",
   "execution_count": 120,
   "metadata": {},
   "outputs": [
    {
     "data": {
      "text/plain": [
       "Index(['id', 'listing_url', 'scrape_id', 'last_scraped', 'name', 'summary',\n",
       "       'space', 'description', 'experiences_offered', 'neighborhood_overview',\n",
       "       'notes', 'transit', 'thumbnail_url', 'medium_url', 'picture_url',\n",
       "       'xl_picture_url', 'host_id', 'host_url', 'host_name', 'host_since',\n",
       "       'host_location', 'host_about', 'host_response_time',\n",
       "       'host_response_rate', 'host_acceptance_rate', 'host_is_superhost',\n",
       "       'host_thumbnail_url', 'host_picture_url', 'host_neighbourhood',\n",
       "       'host_listings_count', 'host_total_listings_count',\n",
       "       'host_verifications', 'host_has_profile_pic', 'host_identity_verified',\n",
       "       'street', 'neighbourhood', 'neighbourhood_cleansed',\n",
       "       'neighbourhood_group_cleansed', 'city', 'state', 'zipcode', 'market',\n",
       "       'smart_location', 'country_code', 'country', 'latitude', 'longitude',\n",
       "       'is_location_exact', 'property_type', 'room_type', 'accommodates',\n",
       "       'bathrooms', 'bedrooms', 'beds', 'bed_type', 'amenities', 'square_feet',\n",
       "       'price', 'weekly_price', 'monthly_price', 'security_deposit',\n",
       "       'cleaning_fee', 'guests_included', 'extra_people', 'minimum_nights',\n",
       "       'maximum_nights', 'calendar_updated', 'has_availability',\n",
       "       'availability_30', 'availability_60', 'availability_90',\n",
       "       'availability_365', 'calendar_last_scraped', 'number_of_reviews',\n",
       "       'first_review', 'last_review', 'review_scores_rating',\n",
       "       'review_scores_accuracy', 'review_scores_cleanliness',\n",
       "       'review_scores_checkin', 'review_scores_communication',\n",
       "       'review_scores_location', 'review_scores_value', 'requires_license',\n",
       "       'license', 'jurisdiction_names', 'instant_bookable',\n",
       "       'cancellation_policy', 'require_guest_profile_picture',\n",
       "       'require_guest_phone_verification', 'calculated_host_listings_count',\n",
       "       'reviews_per_month'],\n",
       "      dtype='object')"
      ]
     },
     "execution_count": 120,
     "metadata": {},
     "output_type": "execute_result"
    }
   ],
   "source": [
    "listing.columns"
   ]
  },
  {
   "cell_type": "code",
   "execution_count": 121,
   "metadata": {},
   "outputs": [
    {
     "name": "stderr",
     "output_type": "stream",
     "text": [
      "/opt/anaconda3/lib/python3.7/site-packages/ipykernel_launcher.py:4: SettingWithCopyWarning: \n",
      "A value is trying to be set on a copy of a slice from a DataFrame.\n",
      "Try using .loc[row_indexer,col_indexer] = value instead\n",
      "\n",
      "See the caveats in the documentation: http://pandas.pydata.org/pandas-docs/stable/user_guide/indexing.html#returning-a-view-versus-a-copy\n",
      "  after removing the cwd from sys.path.\n"
     ]
    },
    {
     "data": {
      "text/html": [
       "<div>\n",
       "<style scoped>\n",
       "    .dataframe tbody tr th:only-of-type {\n",
       "        vertical-align: middle;\n",
       "    }\n",
       "\n",
       "    .dataframe tbody tr th {\n",
       "        vertical-align: top;\n",
       "    }\n",
       "\n",
       "    .dataframe thead th {\n",
       "        text-align: right;\n",
       "    }\n",
       "</style>\n",
       "<table border=\"1\" class=\"dataframe\">\n",
       "  <thead>\n",
       "    <tr style=\"text-align: right;\">\n",
       "      <th></th>\n",
       "      <th>review_scores_rating</th>\n",
       "      <th>scores_sum</th>\n",
       "    </tr>\n",
       "  </thead>\n",
       "  <tbody>\n",
       "    <tr>\n",
       "      <td>0</td>\n",
       "      <td>95.0</td>\n",
       "      <td>59.0</td>\n",
       "    </tr>\n",
       "    <tr>\n",
       "      <td>1</td>\n",
       "      <td>96.0</td>\n",
       "      <td>60.0</td>\n",
       "    </tr>\n",
       "    <tr>\n",
       "      <td>2</td>\n",
       "      <td>97.0</td>\n",
       "      <td>60.0</td>\n",
       "    </tr>\n",
       "    <tr>\n",
       "      <td>3</td>\n",
       "      <td>NaN</td>\n",
       "      <td>0.0</td>\n",
       "    </tr>\n",
       "    <tr>\n",
       "      <td>4</td>\n",
       "      <td>92.0</td>\n",
       "      <td>56.0</td>\n",
       "    </tr>\n",
       "  </tbody>\n",
       "</table>\n",
       "</div>"
      ],
      "text/plain": [
       "   review_scores_rating  scores_sum\n",
       "0                  95.0        59.0\n",
       "1                  96.0        60.0\n",
       "2                  97.0        60.0\n",
       "3                   NaN         0.0\n",
       "4                  92.0        56.0"
      ]
     },
     "execution_count": 121,
     "metadata": {},
     "output_type": "execute_result"
    }
   ],
   "source": [
    "# Explore \"score\" features\n",
    "scores=listing.filter(like='score')\n",
    "# I tried to sum the scores in scale of 10, but seems not equals to the 100-scale review_scores_rating.\n",
    "scores['scores_sum']=listing.filter(like='score').iloc[:,1:].sum(axis=1)\n",
    "scores[['review_scores_rating','scores_sum']].head(5)"
   ]
  },
  {
   "cell_type": "code",
   "execution_count": 122,
   "metadata": {},
   "outputs": [
    {
     "data": {
      "text/plain": [
       "count    3191.000000\n",
       "mean        2.078919\n",
       "std         1.822348\n",
       "min         0.020000\n",
       "25%         0.695000\n",
       "50%         1.540000\n",
       "75%         3.000000\n",
       "max        12.150000\n",
       "Name: reviews_per_month, dtype: float64"
      ]
     },
     "execution_count": 122,
     "metadata": {},
     "output_type": "execute_result"
    }
   ],
   "source": [
    "listing.reviews_per_month.describe()"
   ]
  },
  {
   "cell_type": "code",
   "execution_count": 123,
   "metadata": {},
   "outputs": [
    {
     "data": {
      "text/plain": [
       "f    3497\n",
       "t     321\n",
       "Name: require_guest_profile_picture, dtype: int64"
      ]
     },
     "execution_count": 123,
     "metadata": {},
     "output_type": "execute_result"
    }
   ],
   "source": [
    "listing.require_guest_profile_picture.value_counts()#.sort_index()"
   ]
  },
  {
   "cell_type": "code",
   "execution_count": 124,
   "metadata": {},
   "outputs": [
    {
     "data": {
      "text/html": [
       "<div>\n",
       "<style scoped>\n",
       "    .dataframe tbody tr th:only-of-type {\n",
       "        vertical-align: middle;\n",
       "    }\n",
       "\n",
       "    .dataframe tbody tr th {\n",
       "        vertical-align: top;\n",
       "    }\n",
       "\n",
       "    .dataframe thead th {\n",
       "        text-align: right;\n",
       "    }\n",
       "</style>\n",
       "<table border=\"1\" class=\"dataframe\">\n",
       "  <thead>\n",
       "    <tr style=\"text-align: right;\">\n",
       "      <th></th>\n",
       "      <th>calculated_host_listings_count</th>\n",
       "      <th>reviews_per_month</th>\n",
       "    </tr>\n",
       "  </thead>\n",
       "  <tbody>\n",
       "    <tr>\n",
       "      <td>2459</td>\n",
       "      <td>3</td>\n",
       "      <td>0.28</td>\n",
       "    </tr>\n",
       "  </tbody>\n",
       "</table>\n",
       "</div>"
      ],
      "text/plain": [
       "      calculated_host_listings_count  reviews_per_month\n",
       "2459                               3               0.28"
      ]
     },
     "execution_count": 124,
     "metadata": {},
     "output_type": "execute_result"
    }
   ],
   "source": [
    "# Codes for examining features by batch of 10 \n",
    "listing.iloc[:,0:10].sample()\n",
    "listing.iloc[:,10:20].sample()\n",
    "listing.iloc[:,20:30].sample()\n",
    "listing.iloc[:,30:40].sample()\n",
    "listing.iloc[:,40:50].sample()\n",
    "listing.iloc[:,50:60].sample()\n",
    "listing.iloc[:,60:70].sample()\n",
    "listing.iloc[:,70:80].sample()\n",
    "listing.iloc[:,80:90].sample()\n",
    "listing.iloc[:,90:100].sample()"
   ]
  },
  {
   "cell_type": "markdown",
   "metadata": {},
   "source": [
    "### Finally! I have the features I need"
   ]
  },
  {
   "cell_type": "code",
   "execution_count": 125,
   "metadata": {},
   "outputs": [
    {
     "data": {
      "text/html": [
       "<div>\n",
       "<style scoped>\n",
       "    .dataframe tbody tr th:only-of-type {\n",
       "        vertical-align: middle;\n",
       "    }\n",
       "\n",
       "    .dataframe tbody tr th {\n",
       "        vertical-align: top;\n",
       "    }\n",
       "\n",
       "    .dataframe thead th {\n",
       "        text-align: right;\n",
       "    }\n",
       "</style>\n",
       "<table border=\"1\" class=\"dataframe\">\n",
       "  <thead>\n",
       "    <tr style=\"text-align: right;\">\n",
       "      <th></th>\n",
       "      <th>id</th>\n",
       "      <th>host_since</th>\n",
       "      <th>host_response_time</th>\n",
       "      <th>host_response_rate</th>\n",
       "      <th>host_is_superhost</th>\n",
       "      <th>host_listings_count</th>\n",
       "      <th>host_identity_verified</th>\n",
       "      <th>neighbourhood_group_cleansed</th>\n",
       "      <th>is_location_exact</th>\n",
       "      <th>property_type</th>\n",
       "      <th>...</th>\n",
       "      <th>cleaning_fee</th>\n",
       "      <th>guests_included</th>\n",
       "      <th>extra_people</th>\n",
       "      <th>minimum_nights</th>\n",
       "      <th>maximum_nights</th>\n",
       "      <th>number_of_reviews</th>\n",
       "      <th>review_scores_rating</th>\n",
       "      <th>instant_bookable</th>\n",
       "      <th>cancellation_policy</th>\n",
       "      <th>reviews_per_month</th>\n",
       "    </tr>\n",
       "  </thead>\n",
       "  <tbody>\n",
       "    <tr>\n",
       "      <td>0</td>\n",
       "      <td>241032</td>\n",
       "      <td>2011-08-11</td>\n",
       "      <td>within a few hours</td>\n",
       "      <td>96%</td>\n",
       "      <td>f</td>\n",
       "      <td>3.0</td>\n",
       "      <td>t</td>\n",
       "      <td>Queen Anne</td>\n",
       "      <td>t</td>\n",
       "      <td>Apartment</td>\n",
       "      <td>...</td>\n",
       "      <td>NaN</td>\n",
       "      <td>2</td>\n",
       "      <td>$5.00</td>\n",
       "      <td>1</td>\n",
       "      <td>365</td>\n",
       "      <td>207</td>\n",
       "      <td>95.0</td>\n",
       "      <td>f</td>\n",
       "      <td>moderate</td>\n",
       "      <td>4.07</td>\n",
       "    </tr>\n",
       "    <tr>\n",
       "      <td>1</td>\n",
       "      <td>953595</td>\n",
       "      <td>2013-02-21</td>\n",
       "      <td>within an hour</td>\n",
       "      <td>98%</td>\n",
       "      <td>t</td>\n",
       "      <td>6.0</td>\n",
       "      <td>t</td>\n",
       "      <td>Queen Anne</td>\n",
       "      <td>t</td>\n",
       "      <td>Apartment</td>\n",
       "      <td>...</td>\n",
       "      <td>$40.00</td>\n",
       "      <td>1</td>\n",
       "      <td>$0.00</td>\n",
       "      <td>2</td>\n",
       "      <td>90</td>\n",
       "      <td>43</td>\n",
       "      <td>96.0</td>\n",
       "      <td>f</td>\n",
       "      <td>strict</td>\n",
       "      <td>1.48</td>\n",
       "    </tr>\n",
       "    <tr>\n",
       "      <td>2</td>\n",
       "      <td>3308979</td>\n",
       "      <td>2014-06-12</td>\n",
       "      <td>within a few hours</td>\n",
       "      <td>67%</td>\n",
       "      <td>f</td>\n",
       "      <td>2.0</td>\n",
       "      <td>t</td>\n",
       "      <td>Queen Anne</td>\n",
       "      <td>t</td>\n",
       "      <td>House</td>\n",
       "      <td>...</td>\n",
       "      <td>$300.00</td>\n",
       "      <td>10</td>\n",
       "      <td>$25.00</td>\n",
       "      <td>4</td>\n",
       "      <td>30</td>\n",
       "      <td>20</td>\n",
       "      <td>97.0</td>\n",
       "      <td>f</td>\n",
       "      <td>strict</td>\n",
       "      <td>1.15</td>\n",
       "    </tr>\n",
       "    <tr>\n",
       "      <td>3</td>\n",
       "      <td>7421966</td>\n",
       "      <td>2013-11-06</td>\n",
       "      <td>NaN</td>\n",
       "      <td>NaN</td>\n",
       "      <td>f</td>\n",
       "      <td>1.0</td>\n",
       "      <td>t</td>\n",
       "      <td>Queen Anne</td>\n",
       "      <td>t</td>\n",
       "      <td>Apartment</td>\n",
       "      <td>...</td>\n",
       "      <td>NaN</td>\n",
       "      <td>1</td>\n",
       "      <td>$0.00</td>\n",
       "      <td>1</td>\n",
       "      <td>1125</td>\n",
       "      <td>0</td>\n",
       "      <td>NaN</td>\n",
       "      <td>f</td>\n",
       "      <td>flexible</td>\n",
       "      <td>NaN</td>\n",
       "    </tr>\n",
       "    <tr>\n",
       "      <td>4</td>\n",
       "      <td>278830</td>\n",
       "      <td>2011-11-29</td>\n",
       "      <td>within an hour</td>\n",
       "      <td>100%</td>\n",
       "      <td>f</td>\n",
       "      <td>2.0</td>\n",
       "      <td>t</td>\n",
       "      <td>Queen Anne</td>\n",
       "      <td>t</td>\n",
       "      <td>House</td>\n",
       "      <td>...</td>\n",
       "      <td>$125.00</td>\n",
       "      <td>6</td>\n",
       "      <td>$15.00</td>\n",
       "      <td>1</td>\n",
       "      <td>1125</td>\n",
       "      <td>38</td>\n",
       "      <td>92.0</td>\n",
       "      <td>f</td>\n",
       "      <td>strict</td>\n",
       "      <td>0.89</td>\n",
       "    </tr>\n",
       "  </tbody>\n",
       "</table>\n",
       "<p>5 rows × 29 columns</p>\n",
       "</div>"
      ],
      "text/plain": [
       "        id  host_since  host_response_time host_response_rate  \\\n",
       "0   241032  2011-08-11  within a few hours                96%   \n",
       "1   953595  2013-02-21      within an hour                98%   \n",
       "2  3308979  2014-06-12  within a few hours                67%   \n",
       "3  7421966  2013-11-06                 NaN                NaN   \n",
       "4   278830  2011-11-29      within an hour               100%   \n",
       "\n",
       "  host_is_superhost  host_listings_count host_identity_verified  \\\n",
       "0                 f                  3.0                      t   \n",
       "1                 t                  6.0                      t   \n",
       "2                 f                  2.0                      t   \n",
       "3                 f                  1.0                      t   \n",
       "4                 f                  2.0                      t   \n",
       "\n",
       "  neighbourhood_group_cleansed is_location_exact property_type  ...  \\\n",
       "0                   Queen Anne                 t     Apartment  ...   \n",
       "1                   Queen Anne                 t     Apartment  ...   \n",
       "2                   Queen Anne                 t         House  ...   \n",
       "3                   Queen Anne                 t     Apartment  ...   \n",
       "4                   Queen Anne                 t         House  ...   \n",
       "\n",
       "  cleaning_fee  guests_included  extra_people  minimum_nights  maximum_nights  \\\n",
       "0          NaN                2         $5.00               1             365   \n",
       "1       $40.00                1         $0.00               2              90   \n",
       "2      $300.00               10        $25.00               4              30   \n",
       "3          NaN                1         $0.00               1            1125   \n",
       "4      $125.00                6        $15.00               1            1125   \n",
       "\n",
       "  number_of_reviews review_scores_rating instant_bookable cancellation_policy  \\\n",
       "0               207                 95.0                f            moderate   \n",
       "1                43                 96.0                f              strict   \n",
       "2                20                 97.0                f              strict   \n",
       "3                 0                  NaN                f            flexible   \n",
       "4                38                 92.0                f              strict   \n",
       "\n",
       "  reviews_per_month  \n",
       "0              4.07  \n",
       "1              1.48  \n",
       "2              1.15  \n",
       "3               NaN  \n",
       "4              0.89  \n",
       "\n",
       "[5 rows x 29 columns]"
      ]
     },
     "execution_count": 125,
     "metadata": {},
     "output_type": "execute_result"
    }
   ],
   "source": [
    "\n",
    "features = ['id','host_since','host_response_time','host_response_rate','host_is_superhost','host_listings_count',\\\n",
    "            'host_identity_verified','neighbourhood_group_cleansed','is_location_exact','property_type','room_type',\\\n",
    "           'accommodates','bathrooms','bedrooms','beds','bed_type','amenities','price','security_deposit',\\\n",
    "            'cleaning_fee','guests_included','extra_people','minimum_nights','maximum_nights','number_of_reviews',\\\n",
    "           'review_scores_rating','instant_bookable','cancellation_policy','reviews_per_month']\n",
    "\n",
    "listing_cleansed=listing[features]\n",
    "listing_cleansed.head()"
   ]
  },
  {
   "cell_type": "markdown",
   "metadata": {},
   "source": [
    "### but ... there is much more to be done: manufacture some potentially useful features from available data"
   ]
  },
  {
   "cell_type": "code",
   "execution_count": 126,
   "metadata": {},
   "outputs": [
    {
     "name": "stderr",
     "output_type": "stream",
     "text": [
      "/opt/anaconda3/lib/python3.7/site-packages/ipykernel_launcher.py:3: SettingWithCopyWarning: \n",
      "A value is trying to be set on a copy of a slice from a DataFrame.\n",
      "Try using .loc[row_indexer,col_indexer] = value instead\n",
      "\n",
      "See the caveats in the documentation: http://pandas.pydata.org/pandas-docs/stable/user_guide/indexing.html#returning-a-view-versus-a-copy\n",
      "  This is separate from the ipykernel package so we can avoid doing imports until\n"
     ]
    }
   ],
   "source": [
    "# Count of amenties provided is made to a new feature for ease of anaylis.\n",
    "amenities=listing.amenities.str.split(',')\n",
    "listing_cleansed['amenities']=amenities.apply(lambda row: len(list(row)))"
   ]
  },
  {
   "cell_type": "code",
   "execution_count": 127,
   "metadata": {},
   "outputs": [
    {
     "data": {
      "text/plain": [
       "(3818,)"
      ]
     },
     "execution_count": 127,
     "metadata": {},
     "output_type": "execute_result"
    }
   ],
   "source": [
    "occupancy_rate.shape"
   ]
  },
  {
   "cell_type": "code",
   "execution_count": null,
   "metadata": {},
   "outputs": [],
   "source": [
    "listing_cleansed=listing_cleansed.merge(occupancy_rate,left_index='id', right_index='listing_id')"
   ]
  },
  {
   "cell_type": "code",
   "execution_count": null,
   "metadata": {},
   "outputs": [],
   "source": [
    "# Add the yearly occupancy_rate and mean_price caculated earlier to the listing dataset\n",
    "occupancy_rate=calender.groupby('listing_id').available.mean()\n",
    "mean_price=calender.groupby('listing_id').price.mean()"
   ]
  },
  {
   "cell_type": "code",
   "execution_count": 27,
   "metadata": {},
   "outputs": [
    {
     "data": {
      "text/html": [
       "<div>\n",
       "<style scoped>\n",
       "    .dataframe tbody tr th:only-of-type {\n",
       "        vertical-align: middle;\n",
       "    }\n",
       "\n",
       "    .dataframe tbody tr th {\n",
       "        vertical-align: top;\n",
       "    }\n",
       "\n",
       "    .dataframe thead th {\n",
       "        text-align: right;\n",
       "    }\n",
       "</style>\n",
       "<table border=\"1\" class=\"dataframe\">\n",
       "  <thead>\n",
       "    <tr style=\"text-align: right;\">\n",
       "      <th></th>\n",
       "      <th>id</th>\n",
       "      <th>host_since</th>\n",
       "      <th>host_response_time</th>\n",
       "      <th>host_response_rate</th>\n",
       "      <th>host_is_superhost</th>\n",
       "      <th>host_listings_count</th>\n",
       "      <th>host_identity_verified</th>\n",
       "      <th>neighbourhood_group_cleansed</th>\n",
       "      <th>is_location_exact</th>\n",
       "      <th>property_type</th>\n",
       "      <th>...</th>\n",
       "      <th>cleaning_fee</th>\n",
       "      <th>guests_included</th>\n",
       "      <th>extra_people</th>\n",
       "      <th>minimum_nights</th>\n",
       "      <th>maximum_nights</th>\n",
       "      <th>number_of_reviews</th>\n",
       "      <th>review_scores_rating</th>\n",
       "      <th>instant_bookable</th>\n",
       "      <th>cancellation_policy</th>\n",
       "      <th>reviews_per_month</th>\n",
       "    </tr>\n",
       "  </thead>\n",
       "  <tbody>\n",
       "    <tr>\n",
       "      <td>0</td>\n",
       "      <td>241032</td>\n",
       "      <td>2011-08-11</td>\n",
       "      <td>within a few hours</td>\n",
       "      <td>96%</td>\n",
       "      <td>f</td>\n",
       "      <td>3.0</td>\n",
       "      <td>t</td>\n",
       "      <td>Queen Anne</td>\n",
       "      <td>t</td>\n",
       "      <td>Apartment</td>\n",
       "      <td>...</td>\n",
       "      <td>0</td>\n",
       "      <td>2</td>\n",
       "      <td>$5.00</td>\n",
       "      <td>1</td>\n",
       "      <td>365</td>\n",
       "      <td>207</td>\n",
       "      <td>95.0</td>\n",
       "      <td>f</td>\n",
       "      <td>moderate</td>\n",
       "      <td>4.07</td>\n",
       "    </tr>\n",
       "    <tr>\n",
       "      <td>1</td>\n",
       "      <td>953595</td>\n",
       "      <td>2013-02-21</td>\n",
       "      <td>within an hour</td>\n",
       "      <td>98%</td>\n",
       "      <td>t</td>\n",
       "      <td>6.0</td>\n",
       "      <td>t</td>\n",
       "      <td>Queen Anne</td>\n",
       "      <td>t</td>\n",
       "      <td>Apartment</td>\n",
       "      <td>...</td>\n",
       "      <td>$40.00</td>\n",
       "      <td>1</td>\n",
       "      <td>$0.00</td>\n",
       "      <td>2</td>\n",
       "      <td>90</td>\n",
       "      <td>43</td>\n",
       "      <td>96.0</td>\n",
       "      <td>f</td>\n",
       "      <td>strict</td>\n",
       "      <td>1.48</td>\n",
       "    </tr>\n",
       "    <tr>\n",
       "      <td>2</td>\n",
       "      <td>3308979</td>\n",
       "      <td>2014-06-12</td>\n",
       "      <td>within a few hours</td>\n",
       "      <td>67%</td>\n",
       "      <td>f</td>\n",
       "      <td>2.0</td>\n",
       "      <td>t</td>\n",
       "      <td>Queen Anne</td>\n",
       "      <td>t</td>\n",
       "      <td>House</td>\n",
       "      <td>...</td>\n",
       "      <td>$300.00</td>\n",
       "      <td>10</td>\n",
       "      <td>$25.00</td>\n",
       "      <td>4</td>\n",
       "      <td>30</td>\n",
       "      <td>20</td>\n",
       "      <td>97.0</td>\n",
       "      <td>f</td>\n",
       "      <td>strict</td>\n",
       "      <td>1.15</td>\n",
       "    </tr>\n",
       "    <tr>\n",
       "      <td>3</td>\n",
       "      <td>7421966</td>\n",
       "      <td>2013-11-06</td>\n",
       "      <td>NaN</td>\n",
       "      <td>NaN</td>\n",
       "      <td>f</td>\n",
       "      <td>1.0</td>\n",
       "      <td>t</td>\n",
       "      <td>Queen Anne</td>\n",
       "      <td>t</td>\n",
       "      <td>Apartment</td>\n",
       "      <td>...</td>\n",
       "      <td>0</td>\n",
       "      <td>1</td>\n",
       "      <td>$0.00</td>\n",
       "      <td>1</td>\n",
       "      <td>1125</td>\n",
       "      <td>0</td>\n",
       "      <td>NaN</td>\n",
       "      <td>f</td>\n",
       "      <td>flexible</td>\n",
       "      <td>NaN</td>\n",
       "    </tr>\n",
       "    <tr>\n",
       "      <td>4</td>\n",
       "      <td>278830</td>\n",
       "      <td>2011-11-29</td>\n",
       "      <td>within an hour</td>\n",
       "      <td>100%</td>\n",
       "      <td>f</td>\n",
       "      <td>2.0</td>\n",
       "      <td>t</td>\n",
       "      <td>Queen Anne</td>\n",
       "      <td>t</td>\n",
       "      <td>House</td>\n",
       "      <td>...</td>\n",
       "      <td>$125.00</td>\n",
       "      <td>6</td>\n",
       "      <td>$15.00</td>\n",
       "      <td>1</td>\n",
       "      <td>1125</td>\n",
       "      <td>38</td>\n",
       "      <td>92.0</td>\n",
       "      <td>f</td>\n",
       "      <td>strict</td>\n",
       "      <td>0.89</td>\n",
       "    </tr>\n",
       "  </tbody>\n",
       "</table>\n",
       "<p>5 rows × 29 columns</p>\n",
       "</div>"
      ],
      "text/plain": [
       "        id  host_since  host_response_time host_response_rate  \\\n",
       "0   241032  2011-08-11  within a few hours                96%   \n",
       "1   953595  2013-02-21      within an hour                98%   \n",
       "2  3308979  2014-06-12  within a few hours                67%   \n",
       "3  7421966  2013-11-06                 NaN                NaN   \n",
       "4   278830  2011-11-29      within an hour               100%   \n",
       "\n",
       "  host_is_superhost  host_listings_count host_identity_verified  \\\n",
       "0                 f                  3.0                      t   \n",
       "1                 t                  6.0                      t   \n",
       "2                 f                  2.0                      t   \n",
       "3                 f                  1.0                      t   \n",
       "4                 f                  2.0                      t   \n",
       "\n",
       "  neighbourhood_group_cleansed is_location_exact property_type  ...  \\\n",
       "0                   Queen Anne                 t     Apartment  ...   \n",
       "1                   Queen Anne                 t     Apartment  ...   \n",
       "2                   Queen Anne                 t         House  ...   \n",
       "3                   Queen Anne                 t     Apartment  ...   \n",
       "4                   Queen Anne                 t         House  ...   \n",
       "\n",
       "  cleaning_fee  guests_included  extra_people  minimum_nights  maximum_nights  \\\n",
       "0            0                2         $5.00               1             365   \n",
       "1       $40.00                1         $0.00               2              90   \n",
       "2      $300.00               10        $25.00               4              30   \n",
       "3            0                1         $0.00               1            1125   \n",
       "4      $125.00                6        $15.00               1            1125   \n",
       "\n",
       "  number_of_reviews  review_scores_rating instant_bookable  \\\n",
       "0               207                  95.0                f   \n",
       "1                43                  96.0                f   \n",
       "2                20                  97.0                f   \n",
       "3                 0                   NaN                f   \n",
       "4                38                  92.0                f   \n",
       "\n",
       "  cancellation_policy reviews_per_month  \n",
       "0            moderate              4.07  \n",
       "1              strict              1.48  \n",
       "2              strict              1.15  \n",
       "3            flexible               NaN  \n",
       "4              strict              0.89  \n",
       "\n",
       "[5 rows x 29 columns]"
      ]
     },
     "execution_count": 27,
     "metadata": {},
     "output_type": "execute_result"
    }
   ],
   "source": [
    "listing_cleansed.head()"
   ]
  },
  {
   "cell_type": "code",
   "execution_count": 28,
   "metadata": {},
   "outputs": [
    {
     "data": {
      "text/plain": [
       "(3818, 29)"
      ]
     },
     "execution_count": 28,
     "metadata": {},
     "output_type": "execute_result"
    }
   ],
   "source": [
    "listing_cleansed.shape"
   ]
  },
  {
   "cell_type": "markdown",
   "metadata": {},
   "source": [
    "### Fomating the feature values\n",
    "includes ...\n",
    "- Remove the %, $ unit symbols from value features, convert format to numerical types.\n",
    "- Convert f/t binary features values to binary features using 0/1\n",
    "- Fill missing values\n",
    "- Drop duplicates\n",
    "- Get dummies of categorical values\n",
    "- Scaling"
   ]
  },
  {
   "cell_type": "code",
   "execution_count": 29,
   "metadata": {},
   "outputs": [
    {
     "name": "stderr",
     "output_type": "stream",
     "text": [
      "/opt/anaconda3/lib/python3.7/site-packages/ipykernel_launcher.py:3: SettingWithCopyWarning: \n",
      "A value is trying to be set on a copy of a slice from a DataFrame.\n",
      "Try using .loc[row_indexer,col_indexer] = value instead\n",
      "\n",
      "See the caveats in the documentation: http://pandas.pydata.org/pandas-docs/stable/user_guide/indexing.html#returning-a-view-versus-a-copy\n",
      "  This is separate from the ipykernel package so we can avoid doing imports until\n"
     ]
    }
   ],
   "source": [
    "for feature_with_symbol in ['cleaning_fee','extra_people','host_response_rate','price','security_deposit']:\n",
    "    no_symbol = listing_cleansed[feature_with_symbol].replace('[\\$,\\%]','', regex=True)\n",
    "    listing_cleansed[feature_with_symbol] = pd.to_numeric(no_symbol)"
   ]
  },
  {
   "cell_type": "code",
   "execution_count": 31,
   "metadata": {},
   "outputs": [],
   "source": [
    "# For features having two categories only, knowing one indicates the other, thus replace them with '1'&'0', \n",
    "#no need one-hot encoding.\n",
    "binary_features=['host_is_superhost','host_identity_verified', 'is_location_exact', 'instant_bookable']\n",
    "listing_cleansed[binary_features]=listing_cleansed[binary_features].replace({'t':1, 'f':0})"
   ]
  },
  {
   "cell_type": "code",
   "execution_count": null,
   "metadata": {},
   "outputs": [],
   "source": [
    "listing_cleansed[['security_deposit','cleaning_fee']]=\\\n",
    "    listing_cleansed[['security_deposit','cleaning_fee']].fillna(0.0)"
   ]
  },
  {
   "cell_type": "code",
   "execution_count": 57,
   "metadata": {},
   "outputs": [
    {
     "name": "stdout",
     "output_type": "stream",
     "text": [
      "<class 'pandas.core.frame.DataFrame'>\n",
      "RangeIndex: 3818 entries, 0 to 3817\n",
      "Data columns (total 28 columns):\n",
      "host_response_time              3818 non-null object\n",
      "neighbourhood_group_cleansed    3818 non-null object\n",
      "property_type                   3818 non-null object\n",
      "room_type                       3818 non-null object\n",
      "bed_type                        3818 non-null object\n",
      "cancellation_policy             3818 non-null object\n",
      "id                              3818 non-null float64\n",
      "host_response_rate              3818 non-null float64\n",
      "host_is_superhost               3818 non-null float64\n",
      "host_listings_count             3818 non-null float64\n",
      "host_identity_verified          3818 non-null float64\n",
      "is_location_exact               3818 non-null float64\n",
      "accommodates                    3818 non-null float64\n",
      "bathrooms                       3818 non-null float64\n",
      "bedrooms                        3818 non-null float64\n",
      "beds                            3818 non-null float64\n",
      "amenities                       3818 non-null float64\n",
      "price                           3818 non-null float64\n",
      "security_deposit                3818 non-null float64\n",
      "cleaning_fee                    3818 non-null float64\n",
      "guests_included                 3818 non-null float64\n",
      "extra_people                    3818 non-null float64\n",
      "minimum_nights                  3818 non-null float64\n",
      "maximum_nights                  3818 non-null float64\n",
      "number_of_reviews               3818 non-null float64\n",
      "review_scores_rating            3818 non-null float64\n",
      "instant_bookable                3818 non-null float64\n",
      "reviews_per_month               3818 non-null float64\n",
      "dtypes: float64(22), object(6)\n",
      "memory usage: 835.3+ KB\n"
     ]
    }
   ],
   "source": [
    "#handling missing values\n",
    "# target features 'price' no missing values, 'review_scores_rating' has 647 missing values, later need to drop \n",
    "# rows for review_scores_rating is missing\n",
    "listing_cleansed.isnull().sum()\n",
    "\n",
    "# check 0 dulicates\n",
    "listing_cleansed.duplicated().sum()\n",
    "listing_cleansed.duplicated(subset='id').sum()\n",
    "\n",
    "# fill in others columns with missing values by 'mode' for categorical values, and by 'mean' for numerical values\n",
    "categorical_features=listing_cleansed.select_dtypes(include=['object']).columns\n",
    "numerical_features=listing_cleansed.select_dtypes(exclude=['object']).columns\n",
    "\n",
    "from sklearn.impute import SimpleImputer\n",
    "imp_med=SimpleImputer(strategy='median')\n",
    "imp_mode=SimpleImputer(strategy='most_frequent')\n",
    "\n",
    "listing_filled[categorical_features]=pd.DataFrame(imp_mode.fit_transform(listing_cleansed[categorical_features]))\n",
    "listing_filled[numerical_features]=pd.DataFrame(imp_med.fit_transform(listing_cleansed[numerical_features]))\n",
    "listing_filled.info()"
   ]
  },
  {
   "cell_type": "code",
   "execution_count": 88,
   "metadata": {},
   "outputs": [
    {
     "data": {
      "text/html": [
       "<div>\n",
       "<style scoped>\n",
       "    .dataframe tbody tr th:only-of-type {\n",
       "        vertical-align: middle;\n",
       "    }\n",
       "\n",
       "    .dataframe tbody tr th {\n",
       "        vertical-align: top;\n",
       "    }\n",
       "\n",
       "    .dataframe thead th {\n",
       "        text-align: right;\n",
       "    }\n",
       "</style>\n",
       "<table border=\"1\" class=\"dataframe\">\n",
       "  <thead>\n",
       "    <tr style=\"text-align: right;\">\n",
       "      <th></th>\n",
       "      <th>price</th>\n",
       "    </tr>\n",
       "  </thead>\n",
       "  <tbody>\n",
       "    <tr>\n",
       "      <td>price</td>\n",
       "      <td>1.000000</td>\n",
       "    </tr>\n",
       "    <tr>\n",
       "      <td>accommodates</td>\n",
       "      <td>0.652218</td>\n",
       "    </tr>\n",
       "    <tr>\n",
       "      <td>bedrooms</td>\n",
       "      <td>0.627720</td>\n",
       "    </tr>\n",
       "    <tr>\n",
       "      <td>beds</td>\n",
       "      <td>0.589525</td>\n",
       "    </tr>\n",
       "    <tr>\n",
       "      <td>cleaning_fee</td>\n",
       "      <td>0.576423</td>\n",
       "    </tr>\n",
       "    <tr>\n",
       "      <td>bathrooms</td>\n",
       "      <td>0.516424</td>\n",
       "    </tr>\n",
       "    <tr>\n",
       "      <td>guests_included</td>\n",
       "      <td>0.392875</td>\n",
       "    </tr>\n",
       "    <tr>\n",
       "      <td>security_deposit</td>\n",
       "      <td>0.333579</td>\n",
       "    </tr>\n",
       "    <tr>\n",
       "      <td>reviews_per_month</td>\n",
       "      <td>0.218588</td>\n",
       "    </tr>\n",
       "    <tr>\n",
       "      <td>amenities</td>\n",
       "      <td>0.184176</td>\n",
       "    </tr>\n",
       "    <tr>\n",
       "      <td>extra_people</td>\n",
       "      <td>0.127961</td>\n",
       "    </tr>\n",
       "    <tr>\n",
       "      <td>number_of_reviews</td>\n",
       "      <td>0.124695</td>\n",
       "    </tr>\n",
       "    <tr>\n",
       "      <td>host_listings_count</td>\n",
       "      <td>0.093962</td>\n",
       "    </tr>\n",
       "    <tr>\n",
       "      <td>review_scores_rating</td>\n",
       "      <td>0.055551</td>\n",
       "    </tr>\n",
       "    <tr>\n",
       "      <td>id</td>\n",
       "      <td>0.046289</td>\n",
       "    </tr>\n",
       "    <tr>\n",
       "      <td>instant_bookable</td>\n",
       "      <td>0.031712</td>\n",
       "    </tr>\n",
       "    <tr>\n",
       "      <td>minimum_nights</td>\n",
       "      <td>0.017297</td>\n",
       "    </tr>\n",
       "    <tr>\n",
       "      <td>is_location_exact</td>\n",
       "      <td>0.016056</td>\n",
       "    </tr>\n",
       "    <tr>\n",
       "      <td>host_response_rate</td>\n",
       "      <td>0.014071</td>\n",
       "    </tr>\n",
       "    <tr>\n",
       "      <td>host_is_superhost</td>\n",
       "      <td>0.012272</td>\n",
       "    </tr>\n",
       "    <tr>\n",
       "      <td>host_identity_verified</td>\n",
       "      <td>0.005379</td>\n",
       "    </tr>\n",
       "    <tr>\n",
       "      <td>maximum_nights</td>\n",
       "      <td>0.003336</td>\n",
       "    </tr>\n",
       "  </tbody>\n",
       "</table>\n",
       "</div>"
      ],
      "text/plain": [
       "                           price\n",
       "price                   1.000000\n",
       "accommodates            0.652218\n",
       "bedrooms                0.627720\n",
       "beds                    0.589525\n",
       "cleaning_fee            0.576423\n",
       "bathrooms               0.516424\n",
       "guests_included         0.392875\n",
       "security_deposit        0.333579\n",
       "reviews_per_month       0.218588\n",
       "amenities               0.184176\n",
       "extra_people            0.127961\n",
       "number_of_reviews       0.124695\n",
       "host_listings_count     0.093962\n",
       "review_scores_rating    0.055551\n",
       "id                      0.046289\n",
       "instant_bookable        0.031712\n",
       "minimum_nights          0.017297\n",
       "is_location_exact       0.016056\n",
       "host_response_rate      0.014071\n",
       "host_is_superhost       0.012272\n",
       "host_identity_verified  0.005379\n",
       "maximum_nights          0.003336"
      ]
     },
     "execution_count": 88,
     "metadata": {},
     "output_type": "execute_result"
    }
   ],
   "source": [
    "# now data is processed we can furthur eliminate more  features by checking (numerical) feature correlations \n",
    "#with target variables 'price' and 'review_scores_rating' using `corr()` function\n",
    "price_corr=listing_cleansed.corr()[['price']].apply(lambda x: abs(x)).sort_values(by=['price'],ascending=False)\n",
    "review_corr"
   ]
  },
  {
   "cell_type": "code",
   "execution_count": 60,
   "metadata": {},
   "outputs": [],
   "source": [
    "# one hot encode categorical values\n",
    "listing_encoded=pd.get_dummies(listing_filled)\n"
   ]
  },
  {
   "cell_type": "code",
   "execution_count": 68,
   "metadata": {},
   "outputs": [
    {
     "data": {
      "text/plain": [
       "(70,)"
      ]
     },
     "execution_count": 68,
     "metadata": {},
     "output_type": "execute_result"
    }
   ],
   "source": [
    "listing_encoded.columns.shape"
   ]
  },
  {
   "cell_type": "code",
   "execution_count": null,
   "metadata": {},
   "outputs": [],
   "source": []
  }
 ],
 "metadata": {
  "kernelspec": {
   "display_name": "Python 3",
   "language": "python",
   "name": "python3"
  },
  "language_info": {
   "codemirror_mode": {
    "name": "ipython",
    "version": 3
   },
   "file_extension": ".py",
   "mimetype": "text/x-python",
   "name": "python",
   "nbconvert_exporter": "python",
   "pygments_lexer": "ipython3",
   "version": "3.7.4"
  }
 },
 "nbformat": 4,
 "nbformat_minor": 2
}
