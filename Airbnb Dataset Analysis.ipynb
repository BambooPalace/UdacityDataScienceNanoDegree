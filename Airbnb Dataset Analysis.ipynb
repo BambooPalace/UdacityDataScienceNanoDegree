{
 "cells": [
  {
   "cell_type": "markdown",
   "metadata": {},
   "source": [
    "## Airbnb Dataset: \n",
    "https://www.kaggle.com/airbnb/seattle/data\n",
    "### Context\n",
    "Since 2008, guests and hosts have used Airbnb to travel in a more unique, personalized way. As part of the Airbnb Inside initiative, this dataset describes the listing activity of homestays in Beijing, China.\n",
    "\n",
    "### Content\n",
    "The following Airbnb activity is included in this Beijing dataset:\n",
    "\n",
    "Listings, including full descriptions and average review score\n",
    "Reviews, including unique id for each reviewer and detailed comments\n",
    "Calendar, including listing id and the price and availability for that day\n",
    "\n",
    "### Inspiration\n",
    "Can you describe the vibe of each Seattle neighborhood using listing descriptions?\n",
    "What are the busiest times of the year to visit Seattle? By how much do prices spike?\n",
    "Is there a general upward trend of both new Airbnb listings and total Airbnb visitors to Seattle?\n",
    "For more ideas, visualizations of all Seattle datasets can be found here.\n",
    "\n",
    "### Acknowledgement\n",
    "This dataset is part of Airbnb Inside, and the original source can be found here.\n",
    "(http://insideairbnb.com/get-the-data.html)\n"
   ]
  },
  {
   "cell_type": "markdown",
   "metadata": {},
   "source": [
    "## Analysis Procedures (CRISP-DM)\n",
    "\n",
    "\n",
    "### 1. Business understanding\n",
    "\n",
    "    - Can you build a recommendation model, by grouping similar listings into one cluster?\n",
    "    - What are the busiest times of the year to visit Seattle?\n",
    "    - How the price changes over one year?\n",
    "    - Can you predict/suggest a price given a listing information? which features impact the price most?\n",
    "    - * Can you predict the occupancy rate?\n",
    "\n",
    "    \n",
    "### 2. Data understanding\n",
    "    - Data exploration\n",
    "    \n",
    "### 3. Data preparation\n",
    "    - Handling missing values, categorical values, and feature engineering.\n",
    "\n",
    "### 4. Modelling\n",
    "    - Use clustering algorithms for grouping/recommendation purpose.\n",
    "    - Use regression to suggest owner the reseaonable price range.\n",
    "\n",
    "### 5. Results\n",
    "    - Answer questions in step 1 'Business understanding' with data visualization."
   ]
  },
  {
   "cell_type": "markdown",
   "metadata": {},
   "source": [
    "## 2. Data understanding\n",
    "\n",
    "In this part, the three datasets in csv format is imported into dataframes using `pandas`, and explored using available pandas functions in below cells. The information obtained about the datasets is summarized as below in this cell.\n",
    "\n",
    "**Calender dataset** contains the price information for each listing in a calender year. There are 3818 unique `listing_id` in the dataset, and for each `listing_id` there are 365 rows of price corresponding one day between _2016-01-04 and 2017-01-02_ .<br>\n",
    "The `available` column has two unique values _'t' or 'f'_ meaning _True or False_. When a listing is not available for the day, the columns `price` is _nan_.\n",
    "\n",
    "**Listing dataset** contains the full description for each listing scraped on _2016-01-04_ , with 3818 rows describing 3818 unique listings. <br>\n",
    "There are 92 columns/features in this dataset, thus a lot of information that need to be selectively used in later session. <br>\n",
    "Telling from the column names, the features can be roughly divided into below categories: listing info, host info, location, room/house info, price and booking, reviews, and policies.\n",
    "\n",
    "**Reviews dataset** contains all the review entries for above mention 3818 listings by _2016-01-03_ since 2009. Each row records the review's info and the detailed text comments for a listing in a certain day, without a numerical score feature. <br>\n",
    "The positivity of each comments could be predicted through a NLP modelling, but it's not in the objectives of this analysis and the _listing_ dataset already have features of reviews in numerical scores. Thus, the _reviews_ dataset will not be used for furthur analysis."
   ]
  },
  {
   "cell_type": "code",
   "execution_count": 1,
   "metadata": {},
   "outputs": [],
   "source": [
    "import pandas as pd\n",
    "import numpy as np\n",
    "from matplotlib import pyplot as plt\n",
    "import seaborn as sns\n",
    "\n",
    "calender_path = '/Users/clairegong/Desktop/UdacityDataScienceNanoDegree/seattle airbnb dataset/calendar.csv'\n",
    "listing_path = '/Users/clairegong/Desktop/UdacityDataScienceNanoDegree/seattle airbnb dataset/listings.csv'\n",
    "reviews_path = '/Users/clairegong/Desktop/UdacityDataScienceNanoDegree/seattle airbnb dataset/reviews.csv'\n",
    "\n",
    "calender=pd.read_csv(calender_path)\n",
    "listing=pd.read_csv(listing_path)\n",
    "reviews=pd.read_csv(reviews_path)\n"
   ]
  },
  {
   "cell_type": "code",
   "execution_count": 57,
   "metadata": {},
   "outputs": [
    {
     "data": {
      "text/html": [
       "<div>\n",
       "<style scoped>\n",
       "    .dataframe tbody tr th:only-of-type {\n",
       "        vertical-align: middle;\n",
       "    }\n",
       "\n",
       "    .dataframe tbody tr th {\n",
       "        vertical-align: top;\n",
       "    }\n",
       "\n",
       "    .dataframe thead th {\n",
       "        text-align: right;\n",
       "    }\n",
       "</style>\n",
       "<table border=\"1\" class=\"dataframe\">\n",
       "  <thead>\n",
       "    <tr style=\"text-align: right;\">\n",
       "      <th></th>\n",
       "      <th>listing_id</th>\n",
       "      <th>date</th>\n",
       "      <th>available</th>\n",
       "      <th>price</th>\n",
       "    </tr>\n",
       "  </thead>\n",
       "  <tbody>\n",
       "    <tr>\n",
       "      <td>0</td>\n",
       "      <td>241032</td>\n",
       "      <td>2016-01-04</td>\n",
       "      <td>t</td>\n",
       "      <td>$85.00</td>\n",
       "    </tr>\n",
       "    <tr>\n",
       "      <td>1</td>\n",
       "      <td>241032</td>\n",
       "      <td>2016-01-05</td>\n",
       "      <td>t</td>\n",
       "      <td>$85.00</td>\n",
       "    </tr>\n",
       "    <tr>\n",
       "      <td>2</td>\n",
       "      <td>241032</td>\n",
       "      <td>2016-01-06</td>\n",
       "      <td>f</td>\n",
       "      <td>NaN</td>\n",
       "    </tr>\n",
       "    <tr>\n",
       "      <td>3</td>\n",
       "      <td>241032</td>\n",
       "      <td>2016-01-07</td>\n",
       "      <td>f</td>\n",
       "      <td>NaN</td>\n",
       "    </tr>\n",
       "    <tr>\n",
       "      <td>4</td>\n",
       "      <td>241032</td>\n",
       "      <td>2016-01-08</td>\n",
       "      <td>f</td>\n",
       "      <td>NaN</td>\n",
       "    </tr>\n",
       "  </tbody>\n",
       "</table>\n",
       "</div>"
      ],
      "text/plain": [
       "   listing_id        date available   price\n",
       "0      241032  2016-01-04         t  $85.00\n",
       "1      241032  2016-01-05         t  $85.00\n",
       "2      241032  2016-01-06         f     NaN\n",
       "3      241032  2016-01-07         f     NaN\n",
       "4      241032  2016-01-08         f     NaN"
      ]
     },
     "execution_count": 57,
     "metadata": {},
     "output_type": "execute_result"
    }
   ],
   "source": [
    "calender.head(5)"
   ]
  },
  {
   "cell_type": "code",
   "execution_count": 56,
   "metadata": {},
   "outputs": [
    {
     "data": {
      "text/plain": [
       "3818"
      ]
     },
     "execution_count": 56,
     "metadata": {},
     "output_type": "execute_result"
    }
   ],
   "source": [
    "calender.listing_id.nunique()"
   ]
  },
  {
   "cell_type": "code",
   "execution_count": 41,
   "metadata": {},
   "outputs": [
    {
     "data": {
      "text/plain": [
       "6752031     365\n",
       "7404370     365\n",
       "1259305     365\n",
       "4672934     365\n",
       "10310373    365\n",
       "Name: listing_id, dtype: int64"
      ]
     },
     "execution_count": 41,
     "metadata": {},
     "output_type": "execute_result"
    }
   ],
   "source": [
    "calender.listing_id.value_counts().head()"
   ]
  },
  {
   "cell_type": "code",
   "execution_count": 35,
   "metadata": {},
   "outputs": [
    {
     "name": "stdout",
     "output_type": "stream",
     "text": [
      "Date range of calender data is between 2016-01-04 and 2017-01-02.\n"
     ]
    }
   ],
   "source": [
    "print('Date range of calender data is between {} and {}.'.format(calender.date.min(),calender.date.max()))"
   ]
  },
  {
   "cell_type": "code",
   "execution_count": 3,
   "metadata": {
    "scrolled": true
   },
   "outputs": [
    {
     "name": "stdout",
     "output_type": "stream",
     "text": [
      "<class 'pandas.core.frame.DataFrame'>\n",
      "RangeIndex: 1393570 entries, 0 to 1393569\n",
      "Data columns (total 4 columns):\n",
      "listing_id    1393570 non-null int64\n",
      "date          1393570 non-null object\n",
      "available     1393570 non-null object\n",
      "price         934542 non-null object\n",
      "dtypes: int64(1), object(3)\n",
      "memory usage: 42.5+ MB\n"
     ]
    }
   ],
   "source": [
    "calender.info()"
   ]
  },
  {
   "cell_type": "code",
   "execution_count": 27,
   "metadata": {},
   "outputs": [],
   "source": [
    "# listing.describe()"
   ]
  },
  {
   "cell_type": "code",
   "execution_count": 3,
   "metadata": {},
   "outputs": [],
   "source": [
    "# listing.info() #3818 entries,92 columns"
   ]
  },
  {
   "cell_type": "code",
   "execution_count": 60,
   "metadata": {},
   "outputs": [
    {
     "data": {
      "text/plain": [
       "(3818, 92)"
      ]
     },
     "execution_count": 60,
     "metadata": {},
     "output_type": "execute_result"
    }
   ],
   "source": [
    "listing.shape"
   ]
  },
  {
   "cell_type": "code",
   "execution_count": 45,
   "metadata": {},
   "outputs": [
    {
     "data": {
      "text/plain": [
       "Index(['id', 'listing_url', 'scrape_id', 'last_scraped', 'name', 'summary',\n",
       "       'space', 'description', 'experiences_offered', 'neighborhood_overview',\n",
       "       'notes', 'transit', 'thumbnail_url', 'medium_url', 'picture_url',\n",
       "       'xl_picture_url', 'host_id', 'host_url', 'host_name', 'host_since',\n",
       "       'host_location', 'host_about', 'host_response_time',\n",
       "       'host_response_rate', 'host_acceptance_rate', 'host_is_superhost',\n",
       "       'host_thumbnail_url', 'host_picture_url', 'host_neighbourhood',\n",
       "       'host_listings_count', 'host_total_listings_count',\n",
       "       'host_verifications', 'host_has_profile_pic', 'host_identity_verified',\n",
       "       'street', 'neighbourhood', 'neighbourhood_cleansed',\n",
       "       'neighbourhood_group_cleansed', 'city', 'state', 'zipcode', 'market',\n",
       "       'smart_location', 'country_code', 'country', 'latitude', 'longitude',\n",
       "       'is_location_exact', 'property_type', 'room_type', 'accommodates',\n",
       "       'bathrooms', 'bedrooms', 'beds', 'bed_type', 'amenities', 'square_feet',\n",
       "       'price', 'weekly_price', 'monthly_price', 'security_deposit',\n",
       "       'cleaning_fee', 'guests_included', 'extra_people', 'minimum_nights',\n",
       "       'maximum_nights', 'calendar_updated', 'has_availability',\n",
       "       'availability_30', 'availability_60', 'availability_90',\n",
       "       'availability_365', 'calendar_last_scraped', 'number_of_reviews',\n",
       "       'first_review', 'last_review', 'review_scores_rating',\n",
       "       'review_scores_accuracy', 'review_scores_cleanliness',\n",
       "       'review_scores_checkin', 'review_scores_communication',\n",
       "       'review_scores_location', 'review_scores_value', 'requires_license',\n",
       "       'license', 'jurisdiction_names', 'instant_bookable',\n",
       "       'cancellation_policy', 'require_guest_profile_picture',\n",
       "       'require_guest_phone_verification', 'calculated_host_listings_count',\n",
       "       'reviews_per_month'],\n",
       "      dtype='object')"
      ]
     },
     "execution_count": 45,
     "metadata": {},
     "output_type": "execute_result"
    }
   ],
   "source": [
    "listing.columns # 92 columns"
   ]
  },
  {
   "cell_type": "code",
   "execution_count": 54,
   "metadata": {},
   "outputs": [
    {
     "data": {
      "text/html": [
       "<div>\n",
       "<style scoped>\n",
       "    .dataframe tbody tr th:only-of-type {\n",
       "        vertical-align: middle;\n",
       "    }\n",
       "\n",
       "    .dataframe tbody tr th {\n",
       "        vertical-align: top;\n",
       "    }\n",
       "\n",
       "    .dataframe thead th {\n",
       "        text-align: right;\n",
       "    }\n",
       "</style>\n",
       "<table border=\"1\" class=\"dataframe\">\n",
       "  <thead>\n",
       "    <tr style=\"text-align: right;\">\n",
       "      <th></th>\n",
       "      <th>id</th>\n",
       "      <th>listing_url</th>\n",
       "      <th>scrape_id</th>\n",
       "      <th>last_scraped</th>\n",
       "      <th>name</th>\n",
       "      <th>summary</th>\n",
       "      <th>space</th>\n",
       "      <th>description</th>\n",
       "      <th>experiences_offered</th>\n",
       "      <th>neighborhood_overview</th>\n",
       "      <th>...</th>\n",
       "      <th>review_scores_value</th>\n",
       "      <th>requires_license</th>\n",
       "      <th>license</th>\n",
       "      <th>jurisdiction_names</th>\n",
       "      <th>instant_bookable</th>\n",
       "      <th>cancellation_policy</th>\n",
       "      <th>require_guest_profile_picture</th>\n",
       "      <th>require_guest_phone_verification</th>\n",
       "      <th>calculated_host_listings_count</th>\n",
       "      <th>reviews_per_month</th>\n",
       "    </tr>\n",
       "  </thead>\n",
       "  <tbody>\n",
       "    <tr>\n",
       "      <td>3468</td>\n",
       "      <td>6118198</td>\n",
       "      <td>https://www.airbnb.com/rooms/6118198</td>\n",
       "      <td>20160104002432</td>\n",
       "      <td>2016-01-04</td>\n",
       "      <td>Private Suite in Modern Home</td>\n",
       "      <td>Modern, clean, and light-filled! Private bedro...</td>\n",
       "      <td>All the comforts of home! A comfortable queen-...</td>\n",
       "      <td>Modern, clean, and light-filled! Private bedro...</td>\n",
       "      <td>none</td>\n",
       "      <td>We're lucky to live in the Alaska junction nei...</td>\n",
       "      <td>...</td>\n",
       "      <td>10.0</td>\n",
       "      <td>f</td>\n",
       "      <td>NaN</td>\n",
       "      <td>WASHINGTON</td>\n",
       "      <td>t</td>\n",
       "      <td>moderate</td>\n",
       "      <td>f</td>\n",
       "      <td>f</td>\n",
       "      <td>1</td>\n",
       "      <td>2.8</td>\n",
       "    </tr>\n",
       "  </tbody>\n",
       "</table>\n",
       "<p>1 rows × 92 columns</p>\n",
       "</div>"
      ],
      "text/plain": [
       "           id                           listing_url       scrape_id  \\\n",
       "3468  6118198  https://www.airbnb.com/rooms/6118198  20160104002432   \n",
       "\n",
       "     last_scraped                          name  \\\n",
       "3468   2016-01-04  Private Suite in Modern Home   \n",
       "\n",
       "                                                summary  \\\n",
       "3468  Modern, clean, and light-filled! Private bedro...   \n",
       "\n",
       "                                                  space  \\\n",
       "3468  All the comforts of home! A comfortable queen-...   \n",
       "\n",
       "                                            description experiences_offered  \\\n",
       "3468  Modern, clean, and light-filled! Private bedro...                none   \n",
       "\n",
       "                                  neighborhood_overview  ...  \\\n",
       "3468  We're lucky to live in the Alaska junction nei...  ...   \n",
       "\n",
       "     review_scores_value requires_license license jurisdiction_names  \\\n",
       "3468                10.0                f     NaN         WASHINGTON   \n",
       "\n",
       "     instant_bookable cancellation_policy  require_guest_profile_picture  \\\n",
       "3468                t            moderate                              f   \n",
       "\n",
       "     require_guest_phone_verification calculated_host_listings_count  \\\n",
       "3468                                f                              1   \n",
       "\n",
       "     reviews_per_month  \n",
       "3468               2.8  \n",
       "\n",
       "[1 rows x 92 columns]"
      ]
     },
     "execution_count": 54,
     "metadata": {},
     "output_type": "execute_result"
    }
   ],
   "source": [
    "listing.sample()"
   ]
  },
  {
   "cell_type": "code",
   "execution_count": 53,
   "metadata": {},
   "outputs": [],
   "source": [
    "# listing.iloc[:,:10].sample()"
   ]
  },
  {
   "cell_type": "code",
   "execution_count": 22,
   "metadata": {},
   "outputs": [
    {
     "data": {
      "text/html": [
       "<div>\n",
       "<style scoped>\n",
       "    .dataframe tbody tr th:only-of-type {\n",
       "        vertical-align: middle;\n",
       "    }\n",
       "\n",
       "    .dataframe tbody tr th {\n",
       "        vertical-align: top;\n",
       "    }\n",
       "\n",
       "    .dataframe thead th {\n",
       "        text-align: right;\n",
       "    }\n",
       "</style>\n",
       "<table border=\"1\" class=\"dataframe\">\n",
       "  <thead>\n",
       "    <tr style=\"text-align: right;\">\n",
       "      <th></th>\n",
       "      <th>listing_id</th>\n",
       "      <th>id</th>\n",
       "      <th>date</th>\n",
       "      <th>reviewer_id</th>\n",
       "      <th>reviewer_name</th>\n",
       "      <th>comments</th>\n",
       "    </tr>\n",
       "  </thead>\n",
       "  <tbody>\n",
       "    <tr>\n",
       "      <td>15313</td>\n",
       "      <td>9460</td>\n",
       "      <td>1510659</td>\n",
       "      <td>2012-06-18</td>\n",
       "      <td>1866904</td>\n",
       "      <td>Katie</td>\n",
       "      <td>I wish I could give 10 stars for Siena's apart...</td>\n",
       "    </tr>\n",
       "    <tr>\n",
       "      <td>47300</td>\n",
       "      <td>1956553</td>\n",
       "      <td>32650545</td>\n",
       "      <td>2015-05-19</td>\n",
       "      <td>4482226</td>\n",
       "      <td>Andrew</td>\n",
       "      <td>Mia and Chris made it simple to check-in and c...</td>\n",
       "    </tr>\n",
       "    <tr>\n",
       "      <td>28916</td>\n",
       "      <td>5057466</td>\n",
       "      <td>30488346</td>\n",
       "      <td>2015-04-22</td>\n",
       "      <td>335510</td>\n",
       "      <td>Sun</td>\n",
       "      <td>Eli's friendly hospitality and beautiful home ...</td>\n",
       "    </tr>\n",
       "    <tr>\n",
       "      <td>15627</td>\n",
       "      <td>20927</td>\n",
       "      <td>2360406</td>\n",
       "      <td>2012-09-21</td>\n",
       "      <td>3125596</td>\n",
       "      <td>Sarah</td>\n",
       "      <td>Absolutely loved my stay at the cottage! Liz a...</td>\n",
       "    </tr>\n",
       "    <tr>\n",
       "      <td>40439</td>\n",
       "      <td>6451305</td>\n",
       "      <td>43050050</td>\n",
       "      <td>2015-08-17</td>\n",
       "      <td>10490385</td>\n",
       "      <td>Austin</td>\n",
       "      <td>My experience in Seattle was amazing! I couldn...</td>\n",
       "    </tr>\n",
       "  </tbody>\n",
       "</table>\n",
       "</div>"
      ],
      "text/plain": [
       "       listing_id        id        date  reviewer_id reviewer_name  \\\n",
       "15313        9460   1510659  2012-06-18      1866904         Katie   \n",
       "47300     1956553  32650545  2015-05-19      4482226        Andrew   \n",
       "28916     5057466  30488346  2015-04-22       335510           Sun   \n",
       "15627       20927   2360406  2012-09-21      3125596         Sarah   \n",
       "40439     6451305  43050050  2015-08-17     10490385        Austin   \n",
       "\n",
       "                                                comments  \n",
       "15313  I wish I could give 10 stars for Siena's apart...  \n",
       "47300  Mia and Chris made it simple to check-in and c...  \n",
       "28916  Eli's friendly hospitality and beautiful home ...  \n",
       "15627  Absolutely loved my stay at the cottage! Liz a...  \n",
       "40439  My experience in Seattle was amazing! I couldn...  "
      ]
     },
     "execution_count": 22,
     "metadata": {},
     "output_type": "execute_result"
    }
   ],
   "source": [
    "reviews.sample(5)"
   ]
  },
  {
   "cell_type": "code",
   "execution_count": 23,
   "metadata": {},
   "outputs": [
    {
     "name": "stdout",
     "output_type": "stream",
     "text": [
      "<class 'pandas.core.frame.DataFrame'>\n",
      "RangeIndex: 84849 entries, 0 to 84848\n",
      "Data columns (total 6 columns):\n",
      "listing_id       84849 non-null int64\n",
      "id               84849 non-null int64\n",
      "date             84849 non-null object\n",
      "reviewer_id      84849 non-null int64\n",
      "reviewer_name    84849 non-null object\n",
      "comments         84831 non-null object\n",
      "dtypes: int64(3), object(3)\n",
      "memory usage: 3.9+ MB\n"
     ]
    }
   ],
   "source": [
    "reviews.info()"
   ]
  },
  {
   "cell_type": "code",
   "execution_count": 39,
   "metadata": {},
   "outputs": [
    {
     "name": "stdout",
     "output_type": "stream",
     "text": [
      "Date range of review data is between 2009-06-07 and 2016-01-03.\n"
     ]
    }
   ],
   "source": [
    "print('Date range of review data is between {} and {}.'.format(reviews.date.min(),reviews.date.max()))"
   ]
  },
  {
   "cell_type": "markdown",
   "metadata": {},
   "source": [
    "## 3. Data preparation\n",
    "\n",
    "The _listing_ and _calender_ datasets will be processed in this section to be ready for comsumption for prediction models. From the information gathered in last part, below processing is in order: data cleaning, feature engineering, missing values imputing, categorical values imputing etc.\n",
    "\n"
   ]
  },
  {
   "cell_type": "markdown",
   "metadata": {},
   "source": [
    "**Calender dataset**"
   ]
  },
  {
   "cell_type": "code",
   "execution_count": 13,
   "metadata": {},
   "outputs": [
    {
     "name": "stdout",
     "output_type": "stream",
     "text": [
      "<class 'pandas.core.frame.DataFrame'>\n",
      "RangeIndex: 1393570 entries, 0 to 1393569\n",
      "Data columns (total 4 columns):\n",
      "listing_id    1393570 non-null int64\n",
      "date          1393570 non-null object\n",
      "available     1393570 non-null bool\n",
      "price         934542 non-null float64\n",
      "dtypes: bool(1), float64(1), int64(1), object(1)\n",
      "memory usage: 33.2+ MB\n"
     ]
    }
   ],
   "source": [
    "#Data cleaning\n",
    "# remove dollar signs $ and , in the price feature\n",
    "calender.price = calender.price.replace('[\\$,\\,]','', regex=True)\n",
    "calender.price = pd.to_numeric(calender.price)\n",
    "\n",
    "# modify available feature to boolean values to be meaningful, and convenient for furthur calculation.\n",
    "calender.available.replace({'t':True, 'f': False}, inplace=True)\n",
    "calender.info()"
   ]
  },
  {
   "cell_type": "code",
   "execution_count": 80,
   "metadata": {},
   "outputs": [
    {
     "data": {
      "text/html": [
       "<div>\n",
       "<style scoped>\n",
       "    .dataframe tbody tr th:only-of-type {\n",
       "        vertical-align: middle;\n",
       "    }\n",
       "\n",
       "    .dataframe tbody tr th {\n",
       "        vertical-align: top;\n",
       "    }\n",
       "\n",
       "    .dataframe thead th {\n",
       "        text-align: right;\n",
       "    }\n",
       "</style>\n",
       "<table border=\"1\" class=\"dataframe\">\n",
       "  <thead>\n",
       "    <tr style=\"text-align: right;\">\n",
       "      <th></th>\n",
       "      <th>listing_id</th>\n",
       "      <th>date</th>\n",
       "      <th>available</th>\n",
       "      <th>price</th>\n",
       "      <th>neighbourhood</th>\n",
       "    </tr>\n",
       "  </thead>\n",
       "  <tbody>\n",
       "    <tr>\n",
       "      <td>1080641</td>\n",
       "      <td>7651702</td>\n",
       "      <td>2016-09-01</td>\n",
       "      <td>True</td>\n",
       "      <td>100.0</td>\n",
       "      <td>Capitol Hill</td>\n",
       "    </tr>\n",
       "    <tr>\n",
       "      <td>293451</td>\n",
       "      <td>10126050</td>\n",
       "      <td>2016-12-25</td>\n",
       "      <td>False</td>\n",
       "      <td>NaN</td>\n",
       "      <td>University District</td>\n",
       "    </tr>\n",
       "    <tr>\n",
       "      <td>749665</td>\n",
       "      <td>23356</td>\n",
       "      <td>2016-11-19</td>\n",
       "      <td>True</td>\n",
       "      <td>240.0</td>\n",
       "      <td>Beacon Hill</td>\n",
       "    </tr>\n",
       "    <tr>\n",
       "      <td>500388</td>\n",
       "      <td>23430</td>\n",
       "      <td>2016-12-07</td>\n",
       "      <td>False</td>\n",
       "      <td>NaN</td>\n",
       "      <td>Downtown</td>\n",
       "    </tr>\n",
       "    <tr>\n",
       "      <td>1224169</td>\n",
       "      <td>5123904</td>\n",
       "      <td>2016-11-23</td>\n",
       "      <td>False</td>\n",
       "      <td>NaN</td>\n",
       "      <td>Other neighborhoods</td>\n",
       "    </tr>\n",
       "  </tbody>\n",
       "</table>\n",
       "</div>"
      ],
      "text/plain": [
       "         listing_id        date  available  price        neighbourhood\n",
       "1080641     7651702  2016-09-01       True  100.0         Capitol Hill\n",
       "293451     10126050  2016-12-25      False    NaN  University District\n",
       "749665        23356  2016-11-19       True  240.0          Beacon Hill\n",
       "500388        23430  2016-12-07      False    NaN             Downtown\n",
       "1224169     5123904  2016-11-23      False    NaN  Other neighborhoods"
      ]
     },
     "execution_count": 80,
     "metadata": {},
     "output_type": "execute_result"
    }
   ],
   "source": [
    "#Feature engineering\n",
    "# One of our purposes is to see the price trends, considering neighborhoods, so I need to extract the useful \n",
    "# neighbourhood features from the listing dataset. After some checking, neighbourhood_group_cleansed feature \n",
    "# is the best one, merge this feature to the calender dataset.\n",
    "neighourhood_group=listing[['id','neighbourhood_group_cleansed']].\\\n",
    "    rename(columns={'id':'listing_id','neighbourhood_group_cleansed':'neighbourhood'})\n",
    "calender = calender.merge(neighourhood_group, how='left')\n",
    "\n",
    "calender.sample(5)"
   ]
  },
  {
   "cell_type": "markdown",
   "metadata": {},
   "source": [
    "**Listing dataset**"
   ]
  },
  {
   "cell_type": "code",
   "execution_count": 81,
   "metadata": {},
   "outputs": [
    {
     "data": {
      "text/plain": [
       "Index(['id', 'listing_url', 'scrape_id', 'last_scraped', 'name', 'summary',\n",
       "       'space', 'description', 'experiences_offered', 'neighborhood_overview',\n",
       "       'notes', 'transit', 'thumbnail_url', 'medium_url', 'picture_url',\n",
       "       'xl_picture_url', 'host_id', 'host_url', 'host_name', 'host_since',\n",
       "       'host_location', 'host_about', 'host_response_time',\n",
       "       'host_response_rate', 'host_acceptance_rate', 'host_is_superhost',\n",
       "       'host_thumbnail_url', 'host_picture_url', 'host_neighbourhood',\n",
       "       'host_listings_count', 'host_total_listings_count',\n",
       "       'host_verifications', 'host_has_profile_pic', 'host_identity_verified',\n",
       "       'street', 'neighbourhood', 'neighbourhood_cleansed',\n",
       "       'neighbourhood_group_cleansed', 'city', 'state', 'zipcode', 'market',\n",
       "       'smart_location', 'country_code', 'country', 'latitude', 'longitude',\n",
       "       'is_location_exact', 'property_type', 'room_type', 'accommodates',\n",
       "       'bathrooms', 'bedrooms', 'beds', 'bed_type', 'amenities', 'square_feet',\n",
       "       'price', 'weekly_price', 'monthly_price', 'security_deposit',\n",
       "       'cleaning_fee', 'guests_included', 'extra_people', 'minimum_nights',\n",
       "       'maximum_nights', 'calendar_updated', 'has_availability',\n",
       "       'availability_30', 'availability_60', 'availability_90',\n",
       "       'availability_365', 'calendar_last_scraped', 'number_of_reviews',\n",
       "       'first_review', 'last_review', 'review_scores_rating',\n",
       "       'review_scores_accuracy', 'review_scores_cleanliness',\n",
       "       'review_scores_checkin', 'review_scores_communication',\n",
       "       'review_scores_location', 'review_scores_value', 'requires_license',\n",
       "       'license', 'jurisdiction_names', 'instant_bookable',\n",
       "       'cancellation_policy', 'require_guest_profile_picture',\n",
       "       'require_guest_phone_verification', 'calculated_host_listings_count',\n",
       "       'reviews_per_month'],\n",
       "      dtype='object')"
      ]
     },
     "execution_count": 81,
     "metadata": {},
     "output_type": "execute_result"
    }
   ],
   "source": [
    "listing.columns"
   ]
  },
  {
   "cell_type": "code",
   "execution_count": 124,
   "metadata": {},
   "outputs": [
    {
     "data": {
      "text/plain": [
       "Real Bed         3657\n",
       "Futon              74\n",
       "Pull-out Sofa      47\n",
       "Airbed             27\n",
       "Couch              13\n",
       "Name: bed_type, dtype: int64"
      ]
     },
     "execution_count": 124,
     "metadata": {},
     "output_type": "execute_result"
    }
   ],
   "source": [
    "listing.bed_type.value_counts()\n",
    "#Below features are discarded as they do not provide substantial information.\n",
    "#experiences_offered: 3055/3055 'none'\n",
    "#host_acceptance_rate: 3044/3045 is 100%\n",
    "#host_total_listings_count has same info as host_listings_count\n",
    "#host_verifications could be useful, by splitting list into elements then into categorical values such as 'has_email',\n",
    "    #but nor worth the effort in this case.\n",
    "#host_has_profile_pic 3809/3817 't'"
   ]
  },
  {
   "cell_type": "code",
   "execution_count": 120,
   "metadata": {},
   "outputs": [
    {
     "data": {
      "text/html": [
       "<div>\n",
       "<style scoped>\n",
       "    .dataframe tbody tr th:only-of-type {\n",
       "        vertical-align: middle;\n",
       "    }\n",
       "\n",
       "    .dataframe tbody tr th {\n",
       "        vertical-align: top;\n",
       "    }\n",
       "\n",
       "    .dataframe thead th {\n",
       "        text-align: right;\n",
       "    }\n",
       "</style>\n",
       "<table border=\"1\" class=\"dataframe\">\n",
       "  <thead>\n",
       "    <tr style=\"text-align: right;\">\n",
       "      <th></th>\n",
       "      <th>accommodates</th>\n",
       "      <th>bathrooms</th>\n",
       "      <th>bedrooms</th>\n",
       "      <th>beds</th>\n",
       "      <th>bed_type</th>\n",
       "      <th>amenities</th>\n",
       "      <th>square_feet</th>\n",
       "      <th>price</th>\n",
       "      <th>weekly_price</th>\n",
       "      <th>monthly_price</th>\n",
       "    </tr>\n",
       "  </thead>\n",
       "  <tbody>\n",
       "    <tr>\n",
       "      <td>1664</td>\n",
       "      <td>6</td>\n",
       "      <td>2.0</td>\n",
       "      <td>2.0</td>\n",
       "      <td>3.0</td>\n",
       "      <td>Real Bed</td>\n",
       "      <td>{TV,\"Cable TV\",Internet,\"Wireless Internet\",\"A...</td>\n",
       "      <td>NaN</td>\n",
       "      <td>$245.00</td>\n",
       "      <td>NaN</td>\n",
       "      <td>NaN</td>\n",
       "    </tr>\n",
       "  </tbody>\n",
       "</table>\n",
       "</div>"
      ],
      "text/plain": [
       "      accommodates  bathrooms  bedrooms  beds  bed_type  \\\n",
       "1664             6        2.0       2.0   3.0  Real Bed   \n",
       "\n",
       "                                              amenities  square_feet    price  \\\n",
       "1664  {TV,\"Cable TV\",Internet,\"Wireless Internet\",\"A...          NaN  $245.00   \n",
       "\n",
       "     weekly_price monthly_price  \n",
       "1664          NaN           NaN  "
      ]
     },
     "execution_count": 120,
     "metadata": {},
     "output_type": "execute_result"
    }
   ],
   "source": [
    "listing.iloc[:,0:10].sample()\n",
    "listing.iloc[:,10:20].sample()\n",
    "listing.iloc[:,20:30].sample()\n",
    "listing.iloc[:,30:40].sample()\n",
    "listing.iloc[:,40:50].sample()\n",
    "listing.iloc[:,50:60].sample()"
   ]
  },
  {
   "cell_type": "code",
   "execution_count": 133,
   "metadata": {},
   "outputs": [
    {
     "data": {
      "text/html": [
       "<div>\n",
       "<style scoped>\n",
       "    .dataframe tbody tr th:only-of-type {\n",
       "        vertical-align: middle;\n",
       "    }\n",
       "\n",
       "    .dataframe tbody tr th {\n",
       "        vertical-align: top;\n",
       "    }\n",
       "\n",
       "    .dataframe thead th {\n",
       "        text-align: right;\n",
       "    }\n",
       "</style>\n",
       "<table border=\"1\" class=\"dataframe\">\n",
       "  <thead>\n",
       "    <tr style=\"text-align: right;\">\n",
       "      <th></th>\n",
       "      <th>0</th>\n",
       "      <th>1</th>\n",
       "      <th>2</th>\n",
       "      <th>3</th>\n",
       "      <th>4</th>\n",
       "      <th>5</th>\n",
       "      <th>6</th>\n",
       "      <th>7</th>\n",
       "      <th>8</th>\n",
       "      <th>9</th>\n",
       "      <th>...</th>\n",
       "      <th>20</th>\n",
       "      <th>21</th>\n",
       "      <th>22</th>\n",
       "      <th>23</th>\n",
       "      <th>24</th>\n",
       "      <th>25</th>\n",
       "      <th>26</th>\n",
       "      <th>27</th>\n",
       "      <th>28</th>\n",
       "      <th>29</th>\n",
       "    </tr>\n",
       "  </thead>\n",
       "  <tbody>\n",
       "    <tr>\n",
       "      <td>0</td>\n",
       "      <td>{TV</td>\n",
       "      <td>\"Cable TV\"</td>\n",
       "      <td>Internet</td>\n",
       "      <td>\"Wireless Internet\"</td>\n",
       "      <td>\"Air Conditioning\"</td>\n",
       "      <td>Kitchen</td>\n",
       "      <td>Heating</td>\n",
       "      <td>\"Family/Kid Friendly\"</td>\n",
       "      <td>Washer</td>\n",
       "      <td>Dryer}</td>\n",
       "      <td>...</td>\n",
       "      <td>None</td>\n",
       "      <td>None</td>\n",
       "      <td>None</td>\n",
       "      <td>None</td>\n",
       "      <td>None</td>\n",
       "      <td>None</td>\n",
       "      <td>None</td>\n",
       "      <td>None</td>\n",
       "      <td>None</td>\n",
       "      <td>None</td>\n",
       "    </tr>\n",
       "    <tr>\n",
       "      <td>1</td>\n",
       "      <td>{TV</td>\n",
       "      <td>Internet</td>\n",
       "      <td>\"Wireless Internet\"</td>\n",
       "      <td>Kitchen</td>\n",
       "      <td>\"Free Parking on Premises\"</td>\n",
       "      <td>\"Buzzer/Wireless Intercom\"</td>\n",
       "      <td>Heating</td>\n",
       "      <td>\"Family/Kid Friendly\"</td>\n",
       "      <td>Washer</td>\n",
       "      <td>Dryer</td>\n",
       "      <td>...</td>\n",
       "      <td>None</td>\n",
       "      <td>None</td>\n",
       "      <td>None</td>\n",
       "      <td>None</td>\n",
       "      <td>None</td>\n",
       "      <td>None</td>\n",
       "      <td>None</td>\n",
       "      <td>None</td>\n",
       "      <td>None</td>\n",
       "      <td>None</td>\n",
       "    </tr>\n",
       "    <tr>\n",
       "      <td>2</td>\n",
       "      <td>{TV</td>\n",
       "      <td>\"Cable TV\"</td>\n",
       "      <td>Internet</td>\n",
       "      <td>\"Wireless Internet\"</td>\n",
       "      <td>\"Air Conditioning\"</td>\n",
       "      <td>Kitchen</td>\n",
       "      <td>\"Free Parking on Premises\"</td>\n",
       "      <td>\"Pets Allowed\"</td>\n",
       "      <td>\"Pets live on this property\"</td>\n",
       "      <td>Dog(s)</td>\n",
       "      <td>...</td>\n",
       "      <td>Shampoo}</td>\n",
       "      <td>None</td>\n",
       "      <td>None</td>\n",
       "      <td>None</td>\n",
       "      <td>None</td>\n",
       "      <td>None</td>\n",
       "      <td>None</td>\n",
       "      <td>None</td>\n",
       "      <td>None</td>\n",
       "      <td>None</td>\n",
       "    </tr>\n",
       "    <tr>\n",
       "      <td>3</td>\n",
       "      <td>{Internet</td>\n",
       "      <td>\"Wireless Internet\"</td>\n",
       "      <td>Kitchen</td>\n",
       "      <td>\"Indoor Fireplace\"</td>\n",
       "      <td>Heating</td>\n",
       "      <td>\"Family/Kid Friendly\"</td>\n",
       "      <td>Washer</td>\n",
       "      <td>Dryer</td>\n",
       "      <td>\"Smoke Detector\"</td>\n",
       "      <td>\"Carbon Monoxide Detector\"</td>\n",
       "      <td>...</td>\n",
       "      <td>None</td>\n",
       "      <td>None</td>\n",
       "      <td>None</td>\n",
       "      <td>None</td>\n",
       "      <td>None</td>\n",
       "      <td>None</td>\n",
       "      <td>None</td>\n",
       "      <td>None</td>\n",
       "      <td>None</td>\n",
       "      <td>None</td>\n",
       "    </tr>\n",
       "    <tr>\n",
       "      <td>4</td>\n",
       "      <td>{TV</td>\n",
       "      <td>\"Cable TV\"</td>\n",
       "      <td>Internet</td>\n",
       "      <td>\"Wireless Internet\"</td>\n",
       "      <td>Kitchen</td>\n",
       "      <td>Heating</td>\n",
       "      <td>\"Family/Kid Friendly\"</td>\n",
       "      <td>\"Smoke Detector\"</td>\n",
       "      <td>\"Carbon Monoxide Detector\"</td>\n",
       "      <td>\"First Aid Kit\"</td>\n",
       "      <td>...</td>\n",
       "      <td>None</td>\n",
       "      <td>None</td>\n",
       "      <td>None</td>\n",
       "      <td>None</td>\n",
       "      <td>None</td>\n",
       "      <td>None</td>\n",
       "      <td>None</td>\n",
       "      <td>None</td>\n",
       "      <td>None</td>\n",
       "      <td>None</td>\n",
       "    </tr>\n",
       "  </tbody>\n",
       "</table>\n",
       "<p>5 rows × 30 columns</p>\n",
       "</div>"
      ],
      "text/plain": [
       "          0                    1                    2                    3   \\\n",
       "0        {TV           \"Cable TV\"             Internet  \"Wireless Internet\"   \n",
       "1        {TV             Internet  \"Wireless Internet\"              Kitchen   \n",
       "2        {TV           \"Cable TV\"             Internet  \"Wireless Internet\"   \n",
       "3  {Internet  \"Wireless Internet\"              Kitchen   \"Indoor Fireplace\"   \n",
       "4        {TV           \"Cable TV\"             Internet  \"Wireless Internet\"   \n",
       "\n",
       "                           4                           5   \\\n",
       "0          \"Air Conditioning\"                     Kitchen   \n",
       "1  \"Free Parking on Premises\"  \"Buzzer/Wireless Intercom\"   \n",
       "2          \"Air Conditioning\"                     Kitchen   \n",
       "3                     Heating       \"Family/Kid Friendly\"   \n",
       "4                     Kitchen                     Heating   \n",
       "\n",
       "                           6                      7   \\\n",
       "0                     Heating  \"Family/Kid Friendly\"   \n",
       "1                     Heating  \"Family/Kid Friendly\"   \n",
       "2  \"Free Parking on Premises\"         \"Pets Allowed\"   \n",
       "3                      Washer                  Dryer   \n",
       "4       \"Family/Kid Friendly\"       \"Smoke Detector\"   \n",
       "\n",
       "                             8                           9   ...        20  \\\n",
       "0                        Washer                      Dryer}  ...      None   \n",
       "1                        Washer                       Dryer  ...      None   \n",
       "2  \"Pets live on this property\"                      Dog(s)  ...  Shampoo}   \n",
       "3              \"Smoke Detector\"  \"Carbon Monoxide Detector\"  ...      None   \n",
       "4    \"Carbon Monoxide Detector\"             \"First Aid Kit\"  ...      None   \n",
       "\n",
       "     21    22    23    24    25    26    27    28    29  \n",
       "0  None  None  None  None  None  None  None  None  None  \n",
       "1  None  None  None  None  None  None  None  None  None  \n",
       "2  None  None  None  None  None  None  None  None  None  \n",
       "3  None  None  None  None  None  None  None  None  None  \n",
       "4  None  None  None  None  None  None  None  None  None  \n",
       "\n",
       "[5 rows x 30 columns]"
      ]
     },
     "execution_count": 133,
     "metadata": {},
     "output_type": "execute_result"
    }
   ],
   "source": [
    "test=listing.amenities.str.split(',',expand=True)\n",
    "count_amenities=test.apply(axis=0)\n",
    "test.head()"
   ]
  },
  {
   "cell_type": "code",
   "execution_count": null,
   "metadata": {},
   "outputs": [],
   "source": [
    "# As there are so many features, first I need to select those possibly useful in predicting prices and \n",
    "#answering business questions. Features with descriptive text values is not useful in this context\n",
    "# so I will exclude them all, with the exception for categorical values. \n",
    "#There are a lot of feature examining in this process, for the cleaniness of the code will not be included.\n",
    "# The tip is to examine EVERY feature, a more efficient way is to do this by BATCH of 10 features each time.\n",
    "features = ['id','host_since','host_response_time','host_response_rate','host_is_superhost','host_listings_count',\\\n",
    "            'host_identity_verified','neighbourhood_group_cleansed','is_location_exact','property_type','room_type',\\\n",
    "           'accommodates','bathrooms','bedrooms','beds','bed_type',]"
   ]
  }
 ],
 "metadata": {
  "kernelspec": {
   "display_name": "Python 3",
   "language": "python",
   "name": "python3"
  },
  "language_info": {
   "codemirror_mode": {
    "name": "ipython",
    "version": 3
   },
   "file_extension": ".py",
   "mimetype": "text/x-python",
   "name": "python",
   "nbconvert_exporter": "python",
   "pygments_lexer": "ipython3",
   "version": "3.7.4"
  }
 },
 "nbformat": 4,
 "nbformat_minor": 2
}
